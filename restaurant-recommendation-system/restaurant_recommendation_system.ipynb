{
 "cells": [
  {
   "cell_type": "markdown",
   "id": "ac503223",
   "metadata": {},
   "source": [
    "## __Restaurant Recommendation System 🍽️__    \n",
    "- A hybrid machine learning-based restaurant recommendation system that helps users discover restaurants based on their cuisine preferences, budget constraints, and quality expectations."
   ]
  },
  {
   "cell_type": "markdown",
   "id": "ee493c9d",
   "metadata": {},
   "source": [
    "- __Objective__\n",
    "\n",
    "    - To develop a restaurant recommendation system that helps users discover restaurants based on their:\n",
    "        - Cuisine preferences\n",
    "        - Budget constraints\n",
    "        - Quality expectations (ratings)"
   ]
  },
  {
   "cell_type": "markdown",
   "id": "73d48afd",
   "metadata": {},
   "source": [
    "- __Technical Approach__\n",
    "\n",
    "    - Machine Learning Techniques Used:\n",
    "        - TF-IDF Vectorization - For cuisine similarity analysis\n",
    "        - MinMax Scaling - For cost normalization\n",
    "        - Cosine Similarity - For content-based recommendations\n",
    "        - Hybrid Filtering - Combines user preferences with similarity-based recommendations"
   ]
  },
  {
   "cell_type": "markdown",
   "id": "c4c24655",
   "metadata": {},
   "source": [
    "- __Algorithm Flow:__\n",
    "\n",
    "        User Input → Preference Filtering → Similarity Calculation → Recommendations"
   ]
  },
  {
   "cell_type": "markdown",
   "id": "db4c9e09",
   "metadata": {},
   "source": [
    "- __Dataset__\n",
    "    - The system uses a restaurant dataset with key features:\n",
    "        - Restaurant Name - Name of the restaurant\n",
    "        - Cuisines - Types of food served\n",
    "        - Average Cost for two - Pricing information\n",
    "        - Aggregate rating - User ratings (0-5 scale)"
   ]
  },
  {
   "cell_type": "markdown",
   "id": "5f07cc66",
   "metadata": {},
   "source": [
    "- __Features__\n",
    "    - Content-Based Filtering: Recommends restaurants similar to user preferences\n",
    "    - Budget-Aware Recommendations: Filters based on cost constraints\n",
    "    - Quality Assurance: Ensures minimum rating requirements\n",
    "    - Hybrid Approach: Adapts recommendation strategy based on data availability\n",
    "    - Error Handling: Manages edge cases and invalid inputs"
   ]
  },
  {
   "cell_type": "markdown",
   "id": "8556a31a",
   "metadata": {},
   "source": [
    "GitHub link - https://github.com/RaviSharma1901/Cognifyz-ML-Tasks"
   ]
  },
  {
   "cell_type": "code",
   "execution_count": 30,
   "id": "52443b13",
   "metadata": {},
   "outputs": [],
   "source": [
    "import numpy as np\n",
    "import pandas as pd\n",
    "from sklearn.feature_extraction.text import TfidfVectorizer\n",
    "from sklearn.preprocessing import MinMaxScaler\n",
    "from sklearn.metrics.pairwise import cosine_similarity\n",
    "from scipy.sparse import hstack, csr_matrix"
   ]
  },
  {
   "cell_type": "markdown",
   "id": "365bec96",
   "metadata": {},
   "source": [
    "__Load the Data__"
   ]
  },
  {
   "cell_type": "code",
   "execution_count": 31,
   "id": "25b05bd3",
   "metadata": {},
   "outputs": [
    {
     "data": {
      "application/vnd.microsoft.datawrangler.viewer.v0+json": {
       "columns": [
        {
         "name": "index",
         "rawType": "int64",
         "type": "integer"
        },
        {
         "name": "Restaurant ID",
         "rawType": "int64",
         "type": "integer"
        },
        {
         "name": "Restaurant Name",
         "rawType": "object",
         "type": "string"
        },
        {
         "name": "Country Code",
         "rawType": "int64",
         "type": "integer"
        },
        {
         "name": "City",
         "rawType": "object",
         "type": "string"
        },
        {
         "name": "Address",
         "rawType": "object",
         "type": "string"
        },
        {
         "name": "Locality",
         "rawType": "object",
         "type": "string"
        },
        {
         "name": "Locality Verbose",
         "rawType": "object",
         "type": "string"
        },
        {
         "name": "Longitude",
         "rawType": "float64",
         "type": "float"
        },
        {
         "name": "Latitude",
         "rawType": "float64",
         "type": "float"
        },
        {
         "name": "Cuisines",
         "rawType": "object",
         "type": "string"
        },
        {
         "name": "Average Cost for two",
         "rawType": "int64",
         "type": "integer"
        },
        {
         "name": "Currency",
         "rawType": "object",
         "type": "string"
        },
        {
         "name": "Has Table booking",
         "rawType": "object",
         "type": "string"
        },
        {
         "name": "Has Online delivery",
         "rawType": "object",
         "type": "string"
        },
        {
         "name": "Is delivering now",
         "rawType": "object",
         "type": "string"
        },
        {
         "name": "Switch to order menu",
         "rawType": "object",
         "type": "string"
        },
        {
         "name": "Price range",
         "rawType": "int64",
         "type": "integer"
        },
        {
         "name": "Aggregate rating",
         "rawType": "float64",
         "type": "float"
        },
        {
         "name": "Rating color",
         "rawType": "object",
         "type": "string"
        },
        {
         "name": "Rating text",
         "rawType": "object",
         "type": "string"
        },
        {
         "name": "Votes",
         "rawType": "int64",
         "type": "integer"
        }
       ],
       "ref": "76a873bf-fbc8-47cc-8f0e-93ef9e421023",
       "rows": [
        [
         "0",
         "6317637",
         "Le Petit Souffle",
         "162",
         "Makati City",
         "Third Floor, Century City Mall, Kalayaan Avenue, Poblacion, Makati City",
         "Century City Mall, Poblacion, Makati City",
         "Century City Mall, Poblacion, Makati City, Makati City",
         "121.027535",
         "14.565443",
         "French, Japanese, Desserts",
         "1100",
         "Botswana Pula(P)",
         "Yes",
         "No",
         "No",
         "No",
         "3",
         "4.8",
         "Dark Green",
         "Excellent",
         "314"
        ],
        [
         "1",
         "6304287",
         "Izakaya Kikufuji",
         "162",
         "Makati City",
         "Little Tokyo, 2277 Chino Roces Avenue, Legaspi Village, Makati City",
         "Little Tokyo, Legaspi Village, Makati City",
         "Little Tokyo, Legaspi Village, Makati City, Makati City",
         "121.014101",
         "14.553708",
         "Japanese",
         "1200",
         "Botswana Pula(P)",
         "Yes",
         "No",
         "No",
         "No",
         "3",
         "4.5",
         "Dark Green",
         "Excellent",
         "591"
        ],
        [
         "2",
         "6300002",
         "Heat - Edsa Shangri-La",
         "162",
         "Mandaluyong City",
         "Edsa Shangri-La, 1 Garden Way, Ortigas, Mandaluyong City",
         "Edsa Shangri-La, Ortigas, Mandaluyong City",
         "Edsa Shangri-La, Ortigas, Mandaluyong City, Mandaluyong City",
         "121.056831",
         "14.581404",
         "Seafood, Asian, Filipino, Indian",
         "4000",
         "Botswana Pula(P)",
         "Yes",
         "No",
         "No",
         "No",
         "4",
         "4.4",
         "Green",
         "Very Good",
         "270"
        ],
        [
         "3",
         "6318506",
         "Ooma",
         "162",
         "Mandaluyong City",
         "Third Floor, Mega Fashion Hall, SM Megamall, Ortigas, Mandaluyong City",
         "SM Megamall, Ortigas, Mandaluyong City",
         "SM Megamall, Ortigas, Mandaluyong City, Mandaluyong City",
         "121.056475",
         "14.585318",
         "Japanese, Sushi",
         "1500",
         "Botswana Pula(P)",
         "No",
         "No",
         "No",
         "No",
         "4",
         "4.9",
         "Dark Green",
         "Excellent",
         "365"
        ],
        [
         "4",
         "6314302",
         "Sambo Kojin",
         "162",
         "Mandaluyong City",
         "Third Floor, Mega Atrium, SM Megamall, Ortigas, Mandaluyong City",
         "SM Megamall, Ortigas, Mandaluyong City",
         "SM Megamall, Ortigas, Mandaluyong City, Mandaluyong City",
         "121.057508",
         "14.58445",
         "Japanese, Korean",
         "1500",
         "Botswana Pula(P)",
         "Yes",
         "No",
         "No",
         "No",
         "4",
         "4.8",
         "Dark Green",
         "Excellent",
         "229"
        ]
       ],
       "shape": {
        "columns": 21,
        "rows": 5
       }
      },
      "text/html": [
       "<div>\n",
       "<style scoped>\n",
       "    .dataframe tbody tr th:only-of-type {\n",
       "        vertical-align: middle;\n",
       "    }\n",
       "\n",
       "    .dataframe tbody tr th {\n",
       "        vertical-align: top;\n",
       "    }\n",
       "\n",
       "    .dataframe thead th {\n",
       "        text-align: right;\n",
       "    }\n",
       "</style>\n",
       "<table border=\"1\" class=\"dataframe\">\n",
       "  <thead>\n",
       "    <tr style=\"text-align: right;\">\n",
       "      <th></th>\n",
       "      <th>Restaurant ID</th>\n",
       "      <th>Restaurant Name</th>\n",
       "      <th>Country Code</th>\n",
       "      <th>City</th>\n",
       "      <th>Address</th>\n",
       "      <th>Locality</th>\n",
       "      <th>Locality Verbose</th>\n",
       "      <th>Longitude</th>\n",
       "      <th>Latitude</th>\n",
       "      <th>Cuisines</th>\n",
       "      <th>...</th>\n",
       "      <th>Currency</th>\n",
       "      <th>Has Table booking</th>\n",
       "      <th>Has Online delivery</th>\n",
       "      <th>Is delivering now</th>\n",
       "      <th>Switch to order menu</th>\n",
       "      <th>Price range</th>\n",
       "      <th>Aggregate rating</th>\n",
       "      <th>Rating color</th>\n",
       "      <th>Rating text</th>\n",
       "      <th>Votes</th>\n",
       "    </tr>\n",
       "  </thead>\n",
       "  <tbody>\n",
       "    <tr>\n",
       "      <th>0</th>\n",
       "      <td>6317637</td>\n",
       "      <td>Le Petit Souffle</td>\n",
       "      <td>162</td>\n",
       "      <td>Makati City</td>\n",
       "      <td>Third Floor, Century City Mall, Kalayaan Avenu...</td>\n",
       "      <td>Century City Mall, Poblacion, Makati City</td>\n",
       "      <td>Century City Mall, Poblacion, Makati City, Mak...</td>\n",
       "      <td>121.027535</td>\n",
       "      <td>14.565443</td>\n",
       "      <td>French, Japanese, Desserts</td>\n",
       "      <td>...</td>\n",
       "      <td>Botswana Pula(P)</td>\n",
       "      <td>Yes</td>\n",
       "      <td>No</td>\n",
       "      <td>No</td>\n",
       "      <td>No</td>\n",
       "      <td>3</td>\n",
       "      <td>4.8</td>\n",
       "      <td>Dark Green</td>\n",
       "      <td>Excellent</td>\n",
       "      <td>314</td>\n",
       "    </tr>\n",
       "    <tr>\n",
       "      <th>1</th>\n",
       "      <td>6304287</td>\n",
       "      <td>Izakaya Kikufuji</td>\n",
       "      <td>162</td>\n",
       "      <td>Makati City</td>\n",
       "      <td>Little Tokyo, 2277 Chino Roces Avenue, Legaspi...</td>\n",
       "      <td>Little Tokyo, Legaspi Village, Makati City</td>\n",
       "      <td>Little Tokyo, Legaspi Village, Makati City, Ma...</td>\n",
       "      <td>121.014101</td>\n",
       "      <td>14.553708</td>\n",
       "      <td>Japanese</td>\n",
       "      <td>...</td>\n",
       "      <td>Botswana Pula(P)</td>\n",
       "      <td>Yes</td>\n",
       "      <td>No</td>\n",
       "      <td>No</td>\n",
       "      <td>No</td>\n",
       "      <td>3</td>\n",
       "      <td>4.5</td>\n",
       "      <td>Dark Green</td>\n",
       "      <td>Excellent</td>\n",
       "      <td>591</td>\n",
       "    </tr>\n",
       "    <tr>\n",
       "      <th>2</th>\n",
       "      <td>6300002</td>\n",
       "      <td>Heat - Edsa Shangri-La</td>\n",
       "      <td>162</td>\n",
       "      <td>Mandaluyong City</td>\n",
       "      <td>Edsa Shangri-La, 1 Garden Way, Ortigas, Mandal...</td>\n",
       "      <td>Edsa Shangri-La, Ortigas, Mandaluyong City</td>\n",
       "      <td>Edsa Shangri-La, Ortigas, Mandaluyong City, Ma...</td>\n",
       "      <td>121.056831</td>\n",
       "      <td>14.581404</td>\n",
       "      <td>Seafood, Asian, Filipino, Indian</td>\n",
       "      <td>...</td>\n",
       "      <td>Botswana Pula(P)</td>\n",
       "      <td>Yes</td>\n",
       "      <td>No</td>\n",
       "      <td>No</td>\n",
       "      <td>No</td>\n",
       "      <td>4</td>\n",
       "      <td>4.4</td>\n",
       "      <td>Green</td>\n",
       "      <td>Very Good</td>\n",
       "      <td>270</td>\n",
       "    </tr>\n",
       "    <tr>\n",
       "      <th>3</th>\n",
       "      <td>6318506</td>\n",
       "      <td>Ooma</td>\n",
       "      <td>162</td>\n",
       "      <td>Mandaluyong City</td>\n",
       "      <td>Third Floor, Mega Fashion Hall, SM Megamall, O...</td>\n",
       "      <td>SM Megamall, Ortigas, Mandaluyong City</td>\n",
       "      <td>SM Megamall, Ortigas, Mandaluyong City, Mandal...</td>\n",
       "      <td>121.056475</td>\n",
       "      <td>14.585318</td>\n",
       "      <td>Japanese, Sushi</td>\n",
       "      <td>...</td>\n",
       "      <td>Botswana Pula(P)</td>\n",
       "      <td>No</td>\n",
       "      <td>No</td>\n",
       "      <td>No</td>\n",
       "      <td>No</td>\n",
       "      <td>4</td>\n",
       "      <td>4.9</td>\n",
       "      <td>Dark Green</td>\n",
       "      <td>Excellent</td>\n",
       "      <td>365</td>\n",
       "    </tr>\n",
       "    <tr>\n",
       "      <th>4</th>\n",
       "      <td>6314302</td>\n",
       "      <td>Sambo Kojin</td>\n",
       "      <td>162</td>\n",
       "      <td>Mandaluyong City</td>\n",
       "      <td>Third Floor, Mega Atrium, SM Megamall, Ortigas...</td>\n",
       "      <td>SM Megamall, Ortigas, Mandaluyong City</td>\n",
       "      <td>SM Megamall, Ortigas, Mandaluyong City, Mandal...</td>\n",
       "      <td>121.057508</td>\n",
       "      <td>14.584450</td>\n",
       "      <td>Japanese, Korean</td>\n",
       "      <td>...</td>\n",
       "      <td>Botswana Pula(P)</td>\n",
       "      <td>Yes</td>\n",
       "      <td>No</td>\n",
       "      <td>No</td>\n",
       "      <td>No</td>\n",
       "      <td>4</td>\n",
       "      <td>4.8</td>\n",
       "      <td>Dark Green</td>\n",
       "      <td>Excellent</td>\n",
       "      <td>229</td>\n",
       "    </tr>\n",
       "  </tbody>\n",
       "</table>\n",
       "<p>5 rows × 21 columns</p>\n",
       "</div>"
      ],
      "text/plain": [
       "   Restaurant ID         Restaurant Name  Country Code              City  \\\n",
       "0        6317637        Le Petit Souffle           162       Makati City   \n",
       "1        6304287        Izakaya Kikufuji           162       Makati City   \n",
       "2        6300002  Heat - Edsa Shangri-La           162  Mandaluyong City   \n",
       "3        6318506                    Ooma           162  Mandaluyong City   \n",
       "4        6314302             Sambo Kojin           162  Mandaluyong City   \n",
       "\n",
       "                                             Address  \\\n",
       "0  Third Floor, Century City Mall, Kalayaan Avenu...   \n",
       "1  Little Tokyo, 2277 Chino Roces Avenue, Legaspi...   \n",
       "2  Edsa Shangri-La, 1 Garden Way, Ortigas, Mandal...   \n",
       "3  Third Floor, Mega Fashion Hall, SM Megamall, O...   \n",
       "4  Third Floor, Mega Atrium, SM Megamall, Ortigas...   \n",
       "\n",
       "                                     Locality  \\\n",
       "0   Century City Mall, Poblacion, Makati City   \n",
       "1  Little Tokyo, Legaspi Village, Makati City   \n",
       "2  Edsa Shangri-La, Ortigas, Mandaluyong City   \n",
       "3      SM Megamall, Ortigas, Mandaluyong City   \n",
       "4      SM Megamall, Ortigas, Mandaluyong City   \n",
       "\n",
       "                                    Locality Verbose   Longitude   Latitude  \\\n",
       "0  Century City Mall, Poblacion, Makati City, Mak...  121.027535  14.565443   \n",
       "1  Little Tokyo, Legaspi Village, Makati City, Ma...  121.014101  14.553708   \n",
       "2  Edsa Shangri-La, Ortigas, Mandaluyong City, Ma...  121.056831  14.581404   \n",
       "3  SM Megamall, Ortigas, Mandaluyong City, Mandal...  121.056475  14.585318   \n",
       "4  SM Megamall, Ortigas, Mandaluyong City, Mandal...  121.057508  14.584450   \n",
       "\n",
       "                           Cuisines  ...          Currency Has Table booking  \\\n",
       "0        French, Japanese, Desserts  ...  Botswana Pula(P)               Yes   \n",
       "1                          Japanese  ...  Botswana Pula(P)               Yes   \n",
       "2  Seafood, Asian, Filipino, Indian  ...  Botswana Pula(P)               Yes   \n",
       "3                   Japanese, Sushi  ...  Botswana Pula(P)                No   \n",
       "4                  Japanese, Korean  ...  Botswana Pula(P)               Yes   \n",
       "\n",
       "  Has Online delivery Is delivering now Switch to order menu Price range  \\\n",
       "0                  No                No                   No           3   \n",
       "1                  No                No                   No           3   \n",
       "2                  No                No                   No           4   \n",
       "3                  No                No                   No           4   \n",
       "4                  No                No                   No           4   \n",
       "\n",
       "   Aggregate rating  Rating color Rating text Votes  \n",
       "0               4.8    Dark Green   Excellent   314  \n",
       "1               4.5    Dark Green   Excellent   591  \n",
       "2               4.4         Green   Very Good   270  \n",
       "3               4.9    Dark Green   Excellent   365  \n",
       "4               4.8    Dark Green   Excellent   229  \n",
       "\n",
       "[5 rows x 21 columns]"
      ]
     },
     "execution_count": 31,
     "metadata": {},
     "output_type": "execute_result"
    }
   ],
   "source": [
    "df_recommendations = pd.read_csv('Dataset.csv')\n",
    "df_recommendations.head()"
   ]
  },
  {
   "cell_type": "markdown",
   "id": "0004499d",
   "metadata": {},
   "source": [
    "__Check the Shape__"
   ]
  },
  {
   "cell_type": "code",
   "execution_count": 32,
   "id": "843299b9",
   "metadata": {},
   "outputs": [
    {
     "data": {
      "text/plain": [
       "(9551, 21)"
      ]
     },
     "execution_count": 32,
     "metadata": {},
     "output_type": "execute_result"
    }
   ],
   "source": [
    "# check the rows and columns\n",
    "df_recommendations.shape"
   ]
  },
  {
   "cell_type": "code",
   "execution_count": 33,
   "id": "90ac79f4",
   "metadata": {},
   "outputs": [
    {
     "name": "stdout",
     "output_type": "stream",
     "text": [
      "<class 'pandas.core.frame.DataFrame'>\n",
      "RangeIndex: 9551 entries, 0 to 9550\n",
      "Data columns (total 21 columns):\n",
      " #   Column                Non-Null Count  Dtype  \n",
      "---  ------                --------------  -----  \n",
      " 0   Restaurant ID         9551 non-null   int64  \n",
      " 1   Restaurant Name       9551 non-null   object \n",
      " 2   Country Code          9551 non-null   int64  \n",
      " 3   City                  9551 non-null   object \n",
      " 4   Address               9551 non-null   object \n",
      " 5   Locality              9551 non-null   object \n",
      " 6   Locality Verbose      9551 non-null   object \n",
      " 7   Longitude             9551 non-null   float64\n",
      " 8   Latitude              9551 non-null   float64\n",
      " 9   Cuisines              9542 non-null   object \n",
      " 10  Average Cost for two  9551 non-null   int64  \n",
      " 11  Currency              9551 non-null   object \n",
      " 12  Has Table booking     9551 non-null   object \n",
      " 13  Has Online delivery   9551 non-null   object \n",
      " 14  Is delivering now     9551 non-null   object \n",
      " 15  Switch to order menu  9551 non-null   object \n",
      " 16  Price range           9551 non-null   int64  \n",
      " 17  Aggregate rating      9551 non-null   float64\n",
      " 18  Rating color          9551 non-null   object \n",
      " 19  Rating text           9551 non-null   object \n",
      " 20  Votes                 9551 non-null   int64  \n",
      "dtypes: float64(3), int64(5), object(13)\n",
      "memory usage: 1.5+ MB\n"
     ]
    }
   ],
   "source": [
    "df_recommendations.info()"
   ]
  },
  {
   "cell_type": "markdown",
   "id": "e441c387",
   "metadata": {},
   "source": [
    "__Check for Null Value__"
   ]
  },
  {
   "cell_type": "code",
   "execution_count": 34,
   "id": "0605cf08",
   "metadata": {},
   "outputs": [
    {
     "data": {
      "application/vnd.microsoft.datawrangler.viewer.v0+json": {
       "columns": [
        {
         "name": "index",
         "rawType": "object",
         "type": "string"
        },
        {
         "name": "0",
         "rawType": "int64",
         "type": "integer"
        }
       ],
       "ref": "87dc9418-b21e-4479-a4bf-126313b22d43",
       "rows": [
        [
         "Restaurant ID",
         "0"
        ],
        [
         "Restaurant Name",
         "0"
        ],
        [
         "Country Code",
         "0"
        ],
        [
         "City",
         "0"
        ],
        [
         "Address",
         "0"
        ],
        [
         "Locality",
         "0"
        ],
        [
         "Locality Verbose",
         "0"
        ],
        [
         "Longitude",
         "0"
        ],
        [
         "Latitude",
         "0"
        ],
        [
         "Cuisines",
         "9"
        ],
        [
         "Average Cost for two",
         "0"
        ],
        [
         "Currency",
         "0"
        ],
        [
         "Has Table booking",
         "0"
        ],
        [
         "Has Online delivery",
         "0"
        ],
        [
         "Is delivering now",
         "0"
        ],
        [
         "Switch to order menu",
         "0"
        ],
        [
         "Price range",
         "0"
        ],
        [
         "Aggregate rating",
         "0"
        ],
        [
         "Rating color",
         "0"
        ],
        [
         "Rating text",
         "0"
        ],
        [
         "Votes",
         "0"
        ]
       ],
       "shape": {
        "columns": 1,
        "rows": 21
       }
      },
      "text/plain": [
       "Restaurant ID           0\n",
       "Restaurant Name         0\n",
       "Country Code            0\n",
       "City                    0\n",
       "Address                 0\n",
       "Locality                0\n",
       "Locality Verbose        0\n",
       "Longitude               0\n",
       "Latitude                0\n",
       "Cuisines                9\n",
       "Average Cost for two    0\n",
       "Currency                0\n",
       "Has Table booking       0\n",
       "Has Online delivery     0\n",
       "Is delivering now       0\n",
       "Switch to order menu    0\n",
       "Price range             0\n",
       "Aggregate rating        0\n",
       "Rating color            0\n",
       "Rating text             0\n",
       "Votes                   0\n",
       "dtype: int64"
      ]
     },
     "execution_count": 34,
     "metadata": {},
     "output_type": "execute_result"
    }
   ],
   "source": [
    "df_recommendations.isnull().sum()"
   ]
  },
  {
   "cell_type": "markdown",
   "id": "ae43bf55",
   "metadata": {},
   "source": [
    "__Handle Missing value__"
   ]
  },
  {
   "cell_type": "code",
   "execution_count": 35,
   "id": "bfdae02a",
   "metadata": {},
   "outputs": [],
   "source": [
    "# Fill missing values in 'Cuisines' column with the mode of the column\n",
    "df_recommendations['Cuisines'] = df_recommendations['Cuisines'].fillna(df_recommendations['Cuisines'].mode()[0])"
   ]
  },
  {
   "cell_type": "code",
   "execution_count": 7,
   "id": "5b456556",
   "metadata": {},
   "outputs": [
    {
     "data": {
      "application/vnd.microsoft.datawrangler.viewer.v0+json": {
       "columns": [
        {
         "name": "index",
         "rawType": "object",
         "type": "string"
        },
        {
         "name": "0",
         "rawType": "int64",
         "type": "integer"
        }
       ],
       "ref": "32905fa8-c0a8-4458-9934-b19097b335b0",
       "rows": [
        [
         "Restaurant ID",
         "0"
        ],
        [
         "Restaurant Name",
         "0"
        ],
        [
         "Country Code",
         "0"
        ],
        [
         "City",
         "0"
        ],
        [
         "Address",
         "0"
        ],
        [
         "Locality",
         "0"
        ],
        [
         "Locality Verbose",
         "0"
        ],
        [
         "Longitude",
         "0"
        ],
        [
         "Latitude",
         "0"
        ],
        [
         "Cuisines",
         "0"
        ],
        [
         "Average Cost for two",
         "0"
        ],
        [
         "Currency",
         "0"
        ],
        [
         "Has Table booking",
         "0"
        ],
        [
         "Has Online delivery",
         "0"
        ],
        [
         "Is delivering now",
         "0"
        ],
        [
         "Switch to order menu",
         "0"
        ],
        [
         "Price range",
         "0"
        ],
        [
         "Aggregate rating",
         "0"
        ],
        [
         "Rating color",
         "0"
        ],
        [
         "Rating text",
         "0"
        ],
        [
         "Votes",
         "0"
        ]
       ],
       "shape": {
        "columns": 1,
        "rows": 21
       }
      },
      "text/plain": [
       "Restaurant ID           0\n",
       "Restaurant Name         0\n",
       "Country Code            0\n",
       "City                    0\n",
       "Address                 0\n",
       "Locality                0\n",
       "Locality Verbose        0\n",
       "Longitude               0\n",
       "Latitude                0\n",
       "Cuisines                0\n",
       "Average Cost for two    0\n",
       "Currency                0\n",
       "Has Table booking       0\n",
       "Has Online delivery     0\n",
       "Is delivering now       0\n",
       "Switch to order menu    0\n",
       "Price range             0\n",
       "Aggregate rating        0\n",
       "Rating color            0\n",
       "Rating text             0\n",
       "Votes                   0\n",
       "dtype: int64"
      ]
     },
     "execution_count": 7,
     "metadata": {},
     "output_type": "execute_result"
    }
   ],
   "source": [
    "df_recommendations.isnull().sum()"
   ]
  },
  {
   "cell_type": "code",
   "execution_count": 36,
   "id": "53d29618",
   "metadata": {},
   "outputs": [],
   "source": [
    "# Clean restaurant names\n",
    "df_recommendations['Restaurant Name'] = df_recommendations['Restaurant Name'].str.replace(r'[^\\w\\s&\\'-]', '', regex=True)"
   ]
  },
  {
   "cell_type": "markdown",
   "id": "398a4155",
   "metadata": {},
   "source": [
    "__Check for Duplicates__"
   ]
  },
  {
   "cell_type": "code",
   "execution_count": 37,
   "id": "709751c4",
   "metadata": {},
   "outputs": [
    {
     "data": {
      "text/plain": [
       "0"
      ]
     },
     "execution_count": 37,
     "metadata": {},
     "output_type": "execute_result"
    }
   ],
   "source": [
    "df_recommendations.duplicated().sum()"
   ]
  },
  {
   "cell_type": "markdown",
   "id": "2a61b68d",
   "metadata": {},
   "source": [
    "__Feature selection for for Content-Based Similarity__"
   ]
  },
  {
   "cell_type": "code",
   "execution_count": 38,
   "id": "e5be45ff",
   "metadata": {},
   "outputs": [
    {
     "data": {
      "text/plain": [
       "Index(['Restaurant ID', 'Restaurant Name', 'Country Code', 'City', 'Address',\n",
       "       'Locality', 'Locality Verbose', 'Longitude', 'Latitude', 'Cuisines',\n",
       "       'Average Cost for two', 'Currency', 'Has Table booking',\n",
       "       'Has Online delivery', 'Is delivering now', 'Switch to order menu',\n",
       "       'Price range', 'Aggregate rating', 'Rating color', 'Rating text',\n",
       "       'Votes'],\n",
       "      dtype='object')"
      ]
     },
     "execution_count": 38,
     "metadata": {},
     "output_type": "execute_result"
    }
   ],
   "source": [
    "df_recommendations.columns"
   ]
  },
  {
   "cell_type": "markdown",
   "id": "686d9039",
   "metadata": {},
   "source": [
    "- We are not using __'Price range'__ because __'Average Cost for two'__ gives us more precise and meaningful information about restaurant pricing\n",
    "- __Cuisines:__\n",
    "    - We will use **TF-IDF Vectorization** method to turn these words (like “Italian”, “Indian”) into numbers, so the computer can understand which cuisines are important for each restaurant.\n",
    "- __Average Cost for Two:__\n",
    "    - To make sure numbers are on the same scale we use __MinMaxScale__ to adjust them all to a range between 0 and 1.\n",
    "\n",
    "- *These Two core features for cosine similarity reflect user taste and budget preferences, aligning well with the content-based filtering strategy.*\n",
    "- *Two supporting features for personalizing the final output such as __Aggregate rating__, __Has Online delivery__, and were used separately for filtering, not for similarity.*"
   ]
  },
  {
   "cell_type": "code",
   "execution_count": 39,
   "id": "88f1cdef",
   "metadata": {},
   "outputs": [],
   "source": [
    "# Drop unnecessary columns\n",
    "df_recommendations = df_recommendations.loc[:, ['Restaurant Name','Average Cost for two', 'Cuisines','Aggregate rating']].copy()\n"
   ]
  },
  {
   "cell_type": "markdown",
   "id": "acfc3503",
   "metadata": {},
   "source": [
    "- __TF-IDF Implementation for Cuisines__"
   ]
  },
  {
   "cell_type": "code",
   "execution_count": 40,
   "id": "97e0a8d8",
   "metadata": {},
   "outputs": [
    {
     "data": {
      "application/vnd.microsoft.datawrangler.viewer.v0+json": {
       "columns": [
        {
         "name": "index",
         "rawType": "int64",
         "type": "integer"
        },
        {
         "name": "Cuisines",
         "rawType": "object",
         "type": "string"
        }
       ],
       "ref": "ef8485d3-045b-4e15-83b7-9544d65fa6f9",
       "rows": [
        [
         "0",
         "french, japanese, desserts"
        ],
        [
         "1",
         "japanese"
        ],
        [
         "2",
         "seafood, asian, filipino, indian"
        ],
        [
         "3",
         "japanese, sushi"
        ],
        [
         "4",
         "japanese, korean"
        ],
        [
         "5",
         "chinese"
        ],
        [
         "6",
         "asian, european"
        ],
        [
         "7",
         "seafood, filipino, asian, european"
        ],
        [
         "8",
         "european, asian, indian"
        ],
        [
         "9",
         "filipino"
        ],
        [
         "10",
         "filipino, mexican"
        ],
        [
         "11",
         "american, ice cream, desserts"
        ],
        [
         "12",
         "filipino, mexican"
        ],
        [
         "13",
         "filipino"
        ],
        [
         "14",
         "korean"
        ],
        [
         "15",
         "cafe, american, italian, filipino"
        ],
        [
         "16",
         "italian, pizza"
        ],
        [
         "17",
         "filipino"
        ],
        [
         "18",
         "cafe, korean, desserts"
        ],
        [
         "19",
         "cafe, bakery, american, italian"
        ],
        [
         "20",
         "seafood, american, mediterranean, japanese"
        ],
        [
         "21",
         "american, asian, italian, seafood"
        ],
        [
         "22",
         "fast food, french"
        ],
        [
         "23",
         "cafe"
        ],
        [
         "24",
         "bakery"
        ],
        [
         "25",
         "brazilian"
        ],
        [
         "26",
         "pizza"
        ],
        [
         "27",
         "japanese"
        ],
        [
         "28",
         "arabian"
        ],
        [
         "29",
         "japanese"
        ],
        [
         "30",
         "brazilian, cafe"
        ],
        [
         "31",
         "italian"
        ],
        [
         "32",
         "pizza"
        ],
        [
         "33",
         "bar food, brazilian"
        ],
        [
         "34",
         "mexican, grill"
        ],
        [
         "35",
         "international"
        ],
        [
         "36",
         "peruvian, latin american"
        ],
        [
         "37",
         "american, grill"
        ],
        [
         "38",
         "seafood"
        ],
        [
         "39",
         "international"
        ],
        [
         "40",
         "italian"
        ],
        [
         "41",
         "american, burger"
        ],
        [
         "42",
         "seafood, bar food, brazilian"
        ],
        [
         "43",
         "desserts, cafe"
        ],
        [
         "44",
         "juices, healthy food"
        ],
        [
         "45",
         "beverages, bar food, fast food"
        ],
        [
         "46",
         "lebanese"
        ],
        [
         "47",
         "burger"
        ],
        [
         "48",
         "brazilian, bar food"
        ],
        [
         "49",
         "brazilian, healthy food, juices, pizza"
        ]
       ],
       "shape": {
        "columns": 1,
        "rows": 9551
       }
      },
      "text/plain": [
       "0             french, japanese, desserts\n",
       "1                               japanese\n",
       "2       seafood, asian, filipino, indian\n",
       "3                        japanese, sushi\n",
       "4                       japanese, korean\n",
       "                      ...               \n",
       "9546                             turkish\n",
       "9547     world cuisine, patisserie, cafe\n",
       "9548              italian, world cuisine\n",
       "9549                     restaurant cafe\n",
       "9550                                cafe\n",
       "Name: Cuisines, Length: 9551, dtype: object"
      ]
     },
     "execution_count": 40,
     "metadata": {},
     "output_type": "execute_result"
    }
   ],
   "source": [
    "# Convert 'Cuisines' to lowercase and remove extra spaces\n",
    "df_recommendations['Cuisines'] = df_recommendations['Cuisines'].str.lower().str.replace(r'\\s*,\\s*', ', ', regex=True)\n",
    "df_recommendations['Cuisines']"
   ]
  },
  {
   "cell_type": "code",
   "execution_count": 41,
   "id": "73939fec",
   "metadata": {},
   "outputs": [],
   "source": [
    "# initialize TfidfVectorizer\n",
    "tfidf = TfidfVectorizer()\n",
    "# Fit and transform the 'Cuisines' column to create a TF-IDF matrix\n",
    "tfidf_matrix = tfidf.fit_transform(df_recommendations['Cuisines'])"
   ]
  },
  {
   "cell_type": "code",
   "execution_count": 42,
   "id": "4c91f9f0",
   "metadata": {},
   "outputs": [
    {
     "data": {
      "text/plain": [
       "<9551x150 sparse matrix of type '<class 'numpy.float64'>'\n",
       "\twith 27090 stored elements in Compressed Sparse Row format>"
      ]
     },
     "execution_count": 42,
     "metadata": {},
     "output_type": "execute_result"
    }
   ],
   "source": [
    "# Display the shape of the TF-IDF matrix\n",
    "tfidf_matrix"
   ]
  },
  {
   "cell_type": "markdown",
   "id": "28ddaef0",
   "metadata": {},
   "source": [
    "- __MinMax Scaling on Average Cost for two__"
   ]
  },
  {
   "cell_type": "code",
   "execution_count": 44,
   "id": "65abc19f",
   "metadata": {},
   "outputs": [],
   "source": [
    "scaler = MinMaxScaler()\n",
    "cost_scaled = scaler.fit_transform(df_recommendations[['Average Cost for two']])\n"
   ]
  },
  {
   "cell_type": "code",
   "execution_count": 45,
   "id": "2c180fe0",
   "metadata": {},
   "outputs": [],
   "source": [
    "# Convert the scaled cost to sparse matrix format\n",
    "cost_sparse = csr_matrix(cost_scaled)"
   ]
  },
  {
   "cell_type": "markdown",
   "id": "77d4301f",
   "metadata": {},
   "source": [
    "- __Combine Features for Similarity Matrix__"
   ]
  },
  {
   "cell_type": "code",
   "execution_count": 46,
   "id": "1f020a14",
   "metadata": {},
   "outputs": [],
   "source": [
    "# Combine the TF-IDF matrix and the scaled cost matrix\n",
    "combined_features = hstack([tfidf_matrix, cost_sparse])\n"
   ]
  },
  {
   "cell_type": "markdown",
   "id": "79ffd370",
   "metadata": {},
   "source": [
    "- __Compute Cosine Similarity__"
   ]
  },
  {
   "cell_type": "code",
   "execution_count": 47,
   "id": "1a623042",
   "metadata": {},
   "outputs": [],
   "source": [
    "# Calculate cosine similarity b/w the combined features\n",
    "cos_sim = cosine_similarity(combined_features,combined_features)\n"
   ]
  },
  {
   "cell_type": "markdown",
   "id": "0f491b8b",
   "metadata": {},
   "source": [
    "- __User preferences Filtering recommendations__"
   ]
  },
  {
   "cell_type": "code",
   "execution_count": 48,
   "id": "8278bf9b",
   "metadata": {},
   "outputs": [],
   "source": [
    "# Function to get restaurant recommendations based on user preferences\n",
    "def filter_by_preferences(df, cuisine, budget, rating):\n",
    "    #Filter restaurants based on user preferences\n",
    "    return df[\n",
    "        df['Cuisines'].str.contains(cuisine.lower(), case=False, na=False) &\n",
    "        (df['Average Cost for two'] <= budget) &\n",
    "        (df['Aggregate rating'] >= rating)\n",
    "    ]"
   ]
  },
  {
   "cell_type": "markdown",
   "id": "ae2cea17",
   "metadata": {},
   "source": [
    "- __Similarity based recommendations__"
   ]
  },
  {
   "cell_type": "code",
   "execution_count": 49,
   "id": "cb39dce8",
   "metadata": {},
   "outputs": [],
   "source": [
    "# Function to recommend similar restaurants based on user preferences\n",
    "def recommend_similar(df, similarity_matrix, filter_df, budget, rating, tops=5):\n",
    "\n",
    "    if filter_df.empty:\n",
    "        print(\"No restaurants found matching your criteria.\")\n",
    "        return pd.DataFrame()\n",
    "    # Use the best-rated restaurant from filtered results\n",
    "    best_restaurant_idx = filter_df['Aggregate rating'].idxmax()\n",
    "    # Get similarity scores for the best restaurant\n",
    "    sim_score = list(enumerate(similarity_matrix[best_restaurant_idx]))\n",
    "    # Sort by similarity score (descending) and exclude the restaurant itself\n",
    "    sim_score = sorted(sim_score,key=lambda x: x[1], reverse=True)[1:]\n",
    "    \n",
    "# Get recommendations based on budget and rating constraints\n",
    "    # Initialize an empty list to store recommendations\n",
    "    recommendations = []\n",
    "    # Iterate through the sorted similarity scores\n",
    "    for i, score in sim_score:\n",
    "        # Get the restaurant at the current index\n",
    "        restaurant = df.iloc[i]\n",
    "        # check if the restaurant meets budget and rating criteria and if we haven't reached the limit of recommendations\n",
    "        if (restaurant['Average Cost for two'] <= budget and \n",
    "            restaurant['Aggregate rating'] >= rating and\n",
    "            len(recommendations) < tops):\n",
    "            recommendations.append(i)\n",
    "    return df.iloc[recommendations]"
   ]
  },
  {
   "cell_type": "markdown",
   "id": "5c2afa2f",
   "metadata": {},
   "source": [
    "- __Combines user preferences filtering and similarity based recommendations__"
   ]
  },
  {
   "cell_type": "code",
   "execution_count": 50,
   "id": "1109db19",
   "metadata": {},
   "outputs": [],
   "source": [
    "# Hybrid Recommender Function\n",
    "\n",
    "# This function combines user preferences filtering and similarity-based recommendations\n",
    "def hybrid_recommender(df, cuisine, budget, rating, top_n=5):\n",
    "    # First filter by user preferences\n",
    "    filtered_df = filter_by_preferences(df, cuisine, budget, rating)\n",
    "    \n",
    "    if filtered_df.empty:\n",
    "        print(f\"No restaurants found for cuisine: {cuisine}, budget: {budget}, rating: {rating}\")\n",
    "        return pd.DataFrame()\n",
    "    \n",
    "    print(f\"Restaurants found for cuisine: {cuisine}, budget: {budget}, rating: {rating}\")\n",
    "    print(f\"Filtered matches: {len(filtered_df)} | Top N requested: {top_n}\")\n",
    "    \n",
    "    \n",
    "    # Option 1: Return top restaurants from filtered results (simpler and more reliable)\n",
    "    if len(filtered_df) <= top_n:\n",
    "        print(\"Used Option 1: returning top rated filtered matches (no similarity).\")\n",
    "        return filtered_df.sort_values('Aggregate rating', ascending=False)\n",
    "    \n",
    "    # Option 2: Use similarity-based recommendations\n",
    "    print(\"Used Option 2: similarity based recommendations activated.\")\n",
    "    recommendations = recommend_similar(df, cos_sim, filtered_df, budget, rating, top_n)\n",
    "    \n",
    "    return recommendations"
   ]
  },
  {
   "cell_type": "markdown",
   "id": "f9901e46",
   "metadata": {},
   "source": [
    "- __Sample test cases and outputs__"
   ]
  },
  {
   "cell_type": "code",
   "execution_count": 51,
   "id": "786c8aaf",
   "metadata": {},
   "outputs": [],
   "source": [
    "# function to show recommendations\n",
    "def show_recommendations(df):\n",
    "    if df.empty:\n",
    "        print(\"No recommendations found.\")\n",
    "        return\n",
    "    else:\n",
    "        return df[['Restaurant Name', 'Cuisines', 'Average Cost for two', 'Aggregate rating']].reset_index(drop=True)\n"
   ]
  },
  {
   "cell_type": "markdown",
   "id": "4f23cc99",
   "metadata": {},
   "source": [
    "- Test Case 1"
   ]
  },
  {
   "cell_type": "code",
   "execution_count": 52,
   "id": "92cc8ecb",
   "metadata": {},
   "outputs": [
    {
     "name": "stdout",
     "output_type": "stream",
     "text": [
      "Restaurants found for cuisine: Japanese, budget: 1500, rating: 4.5\n",
      "Filtered matches: 11 | Top N requested: 5\n",
      "Used Option 2: similarity based recommendations activated.\n"
     ]
    },
    {
     "data": {
      "application/vnd.microsoft.datawrangler.viewer.v0+json": {
       "columns": [
        {
         "name": "index",
         "rawType": "int64",
         "type": "integer"
        },
        {
         "name": "Restaurant Name",
         "rawType": "object",
         "type": "string"
        },
        {
         "name": "Cuisines",
         "rawType": "object",
         "type": "string"
        },
        {
         "name": "Average Cost for two",
         "rawType": "int64",
         "type": "integer"
        },
        {
         "name": "Aggregate rating",
         "rawType": "float64",
         "type": "float"
        }
       ],
       "ref": "6c6c849e-0033-4220-8ff8-caefe0955f83",
       "rows": [
        [
         "0",
         "Roka",
         "japanese, sushi",
         "60",
         "4.6"
        ],
        [
         "1",
         "Miyabi 9",
         "japanese, sushi",
         "25",
         "4.8"
        ],
        [
         "2",
         "Kobe Hibachi & Sushi",
         "american, japanese, sushi",
         "25",
         "4.6"
        ],
        [
         "3",
         "Izakaya Kikufuji",
         "japanese",
         "1200",
         "4.5"
        ],
        [
         "4",
         "Sushi Leblon",
         "japanese",
         "250",
         "4.6"
        ]
       ],
       "shape": {
        "columns": 4,
        "rows": 5
       }
      },
      "text/html": [
       "<div>\n",
       "<style scoped>\n",
       "    .dataframe tbody tr th:only-of-type {\n",
       "        vertical-align: middle;\n",
       "    }\n",
       "\n",
       "    .dataframe tbody tr th {\n",
       "        vertical-align: top;\n",
       "    }\n",
       "\n",
       "    .dataframe thead th {\n",
       "        text-align: right;\n",
       "    }\n",
       "</style>\n",
       "<table border=\"1\" class=\"dataframe\">\n",
       "  <thead>\n",
       "    <tr style=\"text-align: right;\">\n",
       "      <th></th>\n",
       "      <th>Restaurant Name</th>\n",
       "      <th>Cuisines</th>\n",
       "      <th>Average Cost for two</th>\n",
       "      <th>Aggregate rating</th>\n",
       "    </tr>\n",
       "  </thead>\n",
       "  <tbody>\n",
       "    <tr>\n",
       "      <th>0</th>\n",
       "      <td>Roka</td>\n",
       "      <td>japanese, sushi</td>\n",
       "      <td>60</td>\n",
       "      <td>4.6</td>\n",
       "    </tr>\n",
       "    <tr>\n",
       "      <th>1</th>\n",
       "      <td>Miyabi 9</td>\n",
       "      <td>japanese, sushi</td>\n",
       "      <td>25</td>\n",
       "      <td>4.8</td>\n",
       "    </tr>\n",
       "    <tr>\n",
       "      <th>2</th>\n",
       "      <td>Kobe Hibachi &amp; Sushi</td>\n",
       "      <td>american, japanese, sushi</td>\n",
       "      <td>25</td>\n",
       "      <td>4.6</td>\n",
       "    </tr>\n",
       "    <tr>\n",
       "      <th>3</th>\n",
       "      <td>Izakaya Kikufuji</td>\n",
       "      <td>japanese</td>\n",
       "      <td>1200</td>\n",
       "      <td>4.5</td>\n",
       "    </tr>\n",
       "    <tr>\n",
       "      <th>4</th>\n",
       "      <td>Sushi Leblon</td>\n",
       "      <td>japanese</td>\n",
       "      <td>250</td>\n",
       "      <td>4.6</td>\n",
       "    </tr>\n",
       "  </tbody>\n",
       "</table>\n",
       "</div>"
      ],
      "text/plain": [
       "        Restaurant Name                   Cuisines  Average Cost for two  \\\n",
       "0                  Roka            japanese, sushi                    60   \n",
       "1              Miyabi 9            japanese, sushi                    25   \n",
       "2  Kobe Hibachi & Sushi  american, japanese, sushi                    25   \n",
       "3      Izakaya Kikufuji                   japanese                  1200   \n",
       "4          Sushi Leblon                   japanese                   250   \n",
       "\n",
       "   Aggregate rating  \n",
       "0               4.6  \n",
       "1               4.8  \n",
       "2               4.6  \n",
       "3               4.5  \n",
       "4               4.6  "
      ]
     },
     "execution_count": 52,
     "metadata": {},
     "output_type": "execute_result"
    }
   ],
   "source": [
    "show_recommendations(hybrid_recommender(df_recommendations, cuisine=\"Japanese\", budget=1500, rating=4.5))"
   ]
  },
  {
   "cell_type": "markdown",
   "id": "c2ffb72b",
   "metadata": {},
   "source": [
    "- Test Case 2"
   ]
  },
  {
   "cell_type": "code",
   "execution_count": 53,
   "id": "d5ccaa87",
   "metadata": {},
   "outputs": [
    {
     "name": "stdout",
     "output_type": "stream",
     "text": [
      "Restaurants found for cuisine: Mexican, budget: 800, rating: 4.0\n",
      "Filtered matches: 40 | Top N requested: 5\n",
      "Used Option 2: similarity based recommendations activated.\n"
     ]
    },
    {
     "data": {
      "application/vnd.microsoft.datawrangler.viewer.v0+json": {
       "columns": [
        {
         "name": "index",
         "rawType": "int64",
         "type": "integer"
        },
        {
         "name": "Restaurant Name",
         "rawType": "object",
         "type": "string"
        },
        {
         "name": "Cuisines",
         "rawType": "object",
         "type": "string"
        },
        {
         "name": "Average Cost for two",
         "rawType": "int64",
         "type": "integer"
        },
        {
         "name": "Aggregate rating",
         "rawType": "float64",
         "type": "float"
        }
       ],
       "ref": "08c094d2-5c6f-4774-a8f2-a6e16956e825",
       "rows": [
        [
         "0",
         "Silantro Fil-Mex",
         "filipino, mexican",
         "800",
         "4.8"
        ],
        [
         "1",
         "Hot Palayok",
         "filipino, japanese, asian",
         "100",
         "4.5"
        ],
        [
         "2",
         "Salsa Mexican Grill",
         "mexican",
         "330",
         "4.3"
        ],
        [
         "3",
         "El Pistolero",
         "mexican",
         "300",
         "4.3"
        ],
        [
         "4",
         "Perron",
         "mexican",
         "250",
         "4.2"
        ]
       ],
       "shape": {
        "columns": 4,
        "rows": 5
       }
      },
      "text/html": [
       "<div>\n",
       "<style scoped>\n",
       "    .dataframe tbody tr th:only-of-type {\n",
       "        vertical-align: middle;\n",
       "    }\n",
       "\n",
       "    .dataframe tbody tr th {\n",
       "        vertical-align: top;\n",
       "    }\n",
       "\n",
       "    .dataframe thead th {\n",
       "        text-align: right;\n",
       "    }\n",
       "</style>\n",
       "<table border=\"1\" class=\"dataframe\">\n",
       "  <thead>\n",
       "    <tr style=\"text-align: right;\">\n",
       "      <th></th>\n",
       "      <th>Restaurant Name</th>\n",
       "      <th>Cuisines</th>\n",
       "      <th>Average Cost for two</th>\n",
       "      <th>Aggregate rating</th>\n",
       "    </tr>\n",
       "  </thead>\n",
       "  <tbody>\n",
       "    <tr>\n",
       "      <th>0</th>\n",
       "      <td>Silantro Fil-Mex</td>\n",
       "      <td>filipino, mexican</td>\n",
       "      <td>800</td>\n",
       "      <td>4.8</td>\n",
       "    </tr>\n",
       "    <tr>\n",
       "      <th>1</th>\n",
       "      <td>Hot Palayok</td>\n",
       "      <td>filipino, japanese, asian</td>\n",
       "      <td>100</td>\n",
       "      <td>4.5</td>\n",
       "    </tr>\n",
       "    <tr>\n",
       "      <th>2</th>\n",
       "      <td>Salsa Mexican Grill</td>\n",
       "      <td>mexican</td>\n",
       "      <td>330</td>\n",
       "      <td>4.3</td>\n",
       "    </tr>\n",
       "    <tr>\n",
       "      <th>3</th>\n",
       "      <td>El Pistolero</td>\n",
       "      <td>mexican</td>\n",
       "      <td>300</td>\n",
       "      <td>4.3</td>\n",
       "    </tr>\n",
       "    <tr>\n",
       "      <th>4</th>\n",
       "      <td>Perron</td>\n",
       "      <td>mexican</td>\n",
       "      <td>250</td>\n",
       "      <td>4.2</td>\n",
       "    </tr>\n",
       "  </tbody>\n",
       "</table>\n",
       "</div>"
      ],
      "text/plain": [
       "       Restaurant Name                   Cuisines  Average Cost for two  \\\n",
       "0     Silantro Fil-Mex          filipino, mexican                   800   \n",
       "1          Hot Palayok  filipino, japanese, asian                   100   \n",
       "2  Salsa Mexican Grill                    mexican                   330   \n",
       "3         El Pistolero                    mexican                   300   \n",
       "4               Perron                    mexican                   250   \n",
       "\n",
       "   Aggregate rating  \n",
       "0               4.8  \n",
       "1               4.5  \n",
       "2               4.3  \n",
       "3               4.3  \n",
       "4               4.2  "
      ]
     },
     "execution_count": 53,
     "metadata": {},
     "output_type": "execute_result"
    }
   ],
   "source": [
    "show_recommendations(hybrid_recommender(df_recommendations, cuisine=\"Mexican\", budget=800, rating=4.0))"
   ]
  },
  {
   "cell_type": "markdown",
   "id": "07db2a45",
   "metadata": {},
   "source": [
    "- Test Case 3"
   ]
  },
  {
   "cell_type": "code",
   "execution_count": 54,
   "id": "f06303df",
   "metadata": {},
   "outputs": [
    {
     "name": "stdout",
     "output_type": "stream",
     "text": [
      "Restaurants found for cuisine: Lucknowi, budget: 1000, rating: 4.0\n",
      "Filtered matches: 1 | Top N requested: 5\n",
      "Used Option 1: returning top rated filtered matches (no similarity).\n"
     ]
    },
    {
     "data": {
      "application/vnd.microsoft.datawrangler.viewer.v0+json": {
       "columns": [
        {
         "name": "index",
         "rawType": "int64",
         "type": "integer"
        },
        {
         "name": "Restaurant Name",
         "rawType": "object",
         "type": "string"
        },
        {
         "name": "Cuisines",
         "rawType": "object",
         "type": "string"
        },
        {
         "name": "Average Cost for two",
         "rawType": "int64",
         "type": "integer"
        },
        {
         "name": "Aggregate rating",
         "rawType": "float64",
         "type": "float"
        }
       ],
       "ref": "be0108c4-6262-4dab-a0a4-12a17773c41d",
       "rows": [
        [
         "0",
         "Grandson of Tunday Kababi",
         "mughlai, lucknowi",
         "300",
         "4.9"
        ]
       ],
       "shape": {
        "columns": 4,
        "rows": 1
       }
      },
      "text/html": [
       "<div>\n",
       "<style scoped>\n",
       "    .dataframe tbody tr th:only-of-type {\n",
       "        vertical-align: middle;\n",
       "    }\n",
       "\n",
       "    .dataframe tbody tr th {\n",
       "        vertical-align: top;\n",
       "    }\n",
       "\n",
       "    .dataframe thead th {\n",
       "        text-align: right;\n",
       "    }\n",
       "</style>\n",
       "<table border=\"1\" class=\"dataframe\">\n",
       "  <thead>\n",
       "    <tr style=\"text-align: right;\">\n",
       "      <th></th>\n",
       "      <th>Restaurant Name</th>\n",
       "      <th>Cuisines</th>\n",
       "      <th>Average Cost for two</th>\n",
       "      <th>Aggregate rating</th>\n",
       "    </tr>\n",
       "  </thead>\n",
       "  <tbody>\n",
       "    <tr>\n",
       "      <th>0</th>\n",
       "      <td>Grandson of Tunday Kababi</td>\n",
       "      <td>mughlai, lucknowi</td>\n",
       "      <td>300</td>\n",
       "      <td>4.9</td>\n",
       "    </tr>\n",
       "  </tbody>\n",
       "</table>\n",
       "</div>"
      ],
      "text/plain": [
       "             Restaurant Name           Cuisines  Average Cost for two  \\\n",
       "0  Grandson of Tunday Kababi  mughlai, lucknowi                   300   \n",
       "\n",
       "   Aggregate rating  \n",
       "0               4.9  "
      ]
     },
     "execution_count": 54,
     "metadata": {},
     "output_type": "execute_result"
    }
   ],
   "source": [
    "show_recommendations(hybrid_recommender(df_recommendations,cuisine=\"Lucknowi\",budget=1000,rating=4.0,top_n=5))"
   ]
  },
  {
   "cell_type": "markdown",
   "id": "9a656ec9",
   "metadata": {},
   "source": [
    "- Test Case 4"
   ]
  },
  {
   "cell_type": "code",
   "execution_count": 56,
   "id": "2a975231",
   "metadata": {},
   "outputs": [
    {
     "name": "stdout",
     "output_type": "stream",
     "text": [
      "No restaurants found for cuisine: Martian Fusion, budget: 50, rating: 5\n",
      "No recommendations found.\n"
     ]
    }
   ],
   "source": [
    "show_recommendations(hybrid_recommender(df_recommendations, cuisine=\"Martian Fusion\", budget=50, rating=5))"
   ]
  },
  {
   "cell_type": "markdown",
   "id": "9bc578fe",
   "metadata": {},
   "source": [
    "- __Evaluation Summary__\n",
    "    - Test Case 1: Japanese, ₹1500 budget, ≥4.5 rating\n",
    "        - The system found 11 matching restaurants.\n",
    "        - It used Option 2: content-based similarity.\n",
    "        - Recommendations were based on the top-rated restaurant and similar ones using TF-IDF and cosine similarity.\n",
    "    - Test Case 2: Mexican, ₹800 budget, ≥4.0 rating\n",
    "        - The system found 40 matching restaurants.\n",
    "        - Again, Option 2 was triggered.\n",
    "        - Top-rated restaurant was used and similar recommendations were generated.\n",
    "    - Test Case 3: Lucknowi, ₹1000 budget, ≥4.0 rating\n",
    "        - The system found only 1 matching restaurant.\n",
    "        - Option 1 was triggered.\n",
    "        - No similarity logic w\n",
    "    - Test Case 4: Martian Fusion, ₹50 budget, rating 5.0\n",
    "        - No matches found due to strict and unrealistic criteria.\n",
    "        - System showed a clear message.\n",
    "        - Handled cleanly with no errors and no recommendations.\n",
    "\n",
    "\n",
    "Overall, the system produces meaningful and relevant content-based recommendations."
   ]
  },
  {
   "cell_type": "code",
   "execution_count": 29,
   "id": "9c248350",
   "metadata": {},
   "outputs": [
    {
     "data": {
      "text/markdown": [
       "\n",
       "| Test Scenario              | Restaurants Found | System Response          | Success Rate     |\n",
       "|---------------------------|-------------------|---------------------------|------------------|\n",
       "| Japanese (₹1500, ≥4.5)    | 11 matches        | Content-based similarity | ✅ Excellent     |\n",
       "| Mexican (₹800, ≥4.0)      | 40 matches        | Content-based similarity | ✅ Excellent     |\n",
       "| Lucknowi (₹1000, ≥4.0)    | 1 match           | Direct recommendation    | ✅ Good          |\n",
       "| Martian Fusion (₹50, 5.0) | 0 matches         | Clear error message      | ✅ Appropriate   |\n"
      ],
      "text/plain": [
       "<IPython.core.display.Markdown object>"
      ]
     },
     "execution_count": 29,
     "metadata": {},
     "output_type": "execute_result"
    }
   ],
   "source": [
    "from IPython.display import Markdown\n",
    "\n",
    "Markdown(\"\"\"\n",
    "| Test Scenario              | Restaurants Found | System Response          | Success Rate     |\n",
    "|---------------------------|-------------------|---------------------------|------------------|\n",
    "| Japanese (₹1500, ≥4.5)    | 11 matches        | Content-based similarity | ✅ Excellent     |\n",
    "| Mexican (₹800, ≥4.0)      | 40 matches        | Content-based similarity | ✅ Excellent     |\n",
    "| Lucknowi (₹1000, ≥4.0)    | 1 match           | Direct recommendation    | ✅ Good          |\n",
    "| Martian Fusion (₹50, 5.0) | 0 matches         | Clear error message      | ✅ Appropriate   |\n",
    "\"\"\")\n"
   ]
  },
  {
   "cell_type": "markdown",
   "id": "73586934",
   "metadata": {},
   "source": [
    "- __Algorithm Details__\n",
    "\n",
    "1. Data Preprocessing\n",
    "    - Handle missing values in cuisines\n",
    "    - Normalize text data (lowercase, strip whitespace)\n",
    "    - Select relevant features for recommendation\n",
    "\n",
    "2. Feature Engineering\n",
    "    - TF-IDF: Convert cuisine text to numerical vectors\n",
    "    - MinMax Scaling: Normalize cost data (0-1 range)\n",
    "    - Feature Combination: Merge cuisine and cost features\n",
    "\n",
    "3. Similarity Computation\n",
    "    - Calculate cosine similarity between all restaurants\n",
    "    - Create similarity matrix for fast lookups\n",
    "\n",
    "4. Recommendation Logic\n",
    "    - Option 1: Direct filtering (≤ top_n matches)\n",
    "    - Option 2: Similarity-based (> top_n matches)\n",
    "\n",
    "- __*Future Enhancements*__\n",
    "    - Add collaborative filtering\n",
    "    - Implement location-based recommendations"
   ]
  },
  {
   "cell_type": "markdown",
   "id": "e203e6ab",
   "metadata": {},
   "source": [
    "- ### __Conclusion__\n",
    "    \n",
    "    - __Key Achievements:__\n",
    "        - Robust Performance Across Diverse Queries:\n",
    "            - Successfully handled popular cuisines (Japanese - 11 matches, Mexican - 40 matches)\n",
    "            - Effectively managed niche cuisines (Lucknowi - 1 match)\n",
    "            - Gracefully handled unrealistic queries (Martian Fusion - 0 matches)\n",
    "        - Intelligent Recommendation Logic:\n",
    "            - Content-based similarity effectively triggered for sufficient data (Test Cases 1 & 2)\n",
    "            - Fallback mechanisms properly activated for limited data scenarios (Test Case 3)\n",
    "            - Clear user feedback provided when no matches found (Test Case 4)\n",
    "        - Technical Reliability:\n",
    "            - Zero system errors across all test scenarios\n",
    "            - Consistent application of TF-IDF vectorization and cosine similarity\n",
    "            - Proper handling of budget and rating constraints"
   ]
  },
  {
   "cell_type": "markdown",
   "id": "68824b9c",
   "metadata": {},
   "source": [
    "____"
   ]
  }
 ],
 "metadata": {
  "kernelspec": {
   "display_name": "Python 3",
   "language": "python",
   "name": "python3"
  },
  "language_info": {
   "codemirror_mode": {
    "name": "ipython",
    "version": 3
   },
   "file_extension": ".py",
   "mimetype": "text/x-python",
   "name": "python",
   "nbconvert_exporter": "python",
   "pygments_lexer": "ipython3",
   "version": "3.12.6"
  }
 },
 "nbformat": 4,
 "nbformat_minor": 5
}
