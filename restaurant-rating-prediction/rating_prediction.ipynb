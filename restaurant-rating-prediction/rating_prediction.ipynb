{
 "cells": [
  {
   "cell_type": "markdown",
   "id": "dd851e6a",
   "metadata": {},
   "source": [
    "## Task 1: Rating Prediction using ML\n",
    "\n",
    "### Project Summary: Predicting Restaurant Ratings with ML\n",
    "\n",
    "In this project, I analyzed a restaurant dataset to predict ratings using machine learning. The journey covered data cleaning, outlier treatment, feature encoding, and model evaluation. I compared a Linear Regression and a Decision Tree Regressor, and found that the Decision Tree outperformed with an R² of 0.92, capturing non-linear relationships effectively.\n",
    "- Top insight: Votes were by far the most influential feature in predicting restaurant ratings.\n",
    "- Key Steps:\n",
    "    - Exploratory Data Analysis with visualizations (heatmap, pairplot)\n",
    "    - Outlier handling using IQR + log transformation\n",
    "    - Feature encoding (Top-N cuisines, frequency encoding for cities, label encoding)\n",
    "    - Model evaluation (R², MSE, MAE, RMSE)\n",
    "    - Feature importance analysis for stakeholder insights\n"
   ]
  },
  {
   "cell_type": "code",
   "execution_count": null,
   "id": "a99c32ee",
   "metadata": {},
   "outputs": [],
   "source": [
    "# importing necessary libraries\n",
    "import numpy as np\n",
    "import pandas as pd\n",
    "import matplotlib.pylab as plt\n",
    "import seaborn as sns\n",
    "\n",
    "from sklearn.model_selection import train_test_split\n",
    "from sklearn.preprocessing import StandardScaler\n",
    "\n",
    "from sklearn.linear_model import LinearRegression\n",
    "from sklearn.tree import DecisionTreeRegressor\n",
    "from sklearn.metrics import mean_squared_error, r2_score, mean_absolute_error\n"
   ]
  },
  {
   "cell_type": "markdown",
   "id": "7e695fb6",
   "metadata": {},
   "source": [
    "- Data Definition\n",
    "    - This dataset appears to be a restaurant listing with various attributes describing each restaurant. Each row represents a different restaurant, and each column contains specific information about that restaurant.\n",
    "\n",
    "- Columns and Their Meanings\n",
    "    - __Restaurant ID:__ A unique identifier for each restaurant.\n",
    "    - __Restaurant Name:__ The name of the restaurant.\n",
    "    - __Country Code:__ Numeric code representing the country (162 in all rows, likely referring to the Philippines).\n",
    "    - __City:__ The city where the restaurant is located.\n",
    "    - __Address:__ The full address of the restaurant.\n",
    "    - __Locality:__ A more specific area or neighborhood within the city.\n",
    "    - __Locality Verbose:__ A detailed description of the locality.\n",
    "    - __Longitude:__ The geographic longitude coordinate.\n",
    "    - __Latitude:__ The geographic latitude coordinate.\n",
    "    - __Cuisines:__ Types of cuisines offered (e.g., Japanese, French, Seafood).\n",
    "    - __Average Cost for two:__ Average cost for two people (in the listed currency).\n",
    "    - __Currency:__ The currency in which the cost is listed \n",
    "    - __Has Table Booking:__ Indicates if the restaurant accepts table bookings (Yes/No).\n",
    "    - __Has Online Delivery:__ Indicates if the restaurant offers online delivery (Yes/No).\n",
    "    - __Is Delivering Now:__ Indicates if the restaurant is currently delivering (Yes/No).\n",
    "    - __Switch to Order Menu:__ Likely an internal flag for the ordering system (Yes/No).\n",
    "    - __Price Range:__ A numeric value indicating the price category (e.g., 1 = low, 4 = high).\n",
    "    - __Aggregate Rating:__ The overall rating of the restaurant (out of 5).\n",
    "    - __Rating Color:__ The color code associated with the rating (e.g., Dark Green for high ratings).\n",
    "    - __Rating Text:__ The qualitative description of the rating (e.g., Excellent, Very Good).\n",
    "    - __Votes:__ The number of people who have rated the restaurant.\n",
    "\n"
   ]
  },
  {
   "cell_type": "markdown",
   "id": "a5d6e7fb",
   "metadata": {},
   "source": [
    "- __Load the Data__"
   ]
  },
  {
   "cell_type": "code",
   "execution_count": null,
   "id": "00ffd6f1",
   "metadata": {},
   "outputs": [
    {
     "data": {
      "application/vnd.microsoft.datawrangler.viewer.v0+json": {
       "columns": [
        {
         "name": "index",
         "rawType": "int64",
         "type": "integer"
        },
        {
         "name": "Restaurant ID",
         "rawType": "int64",
         "type": "integer"
        },
        {
         "name": "Restaurant Name",
         "rawType": "object",
         "type": "string"
        },
        {
         "name": "Country Code",
         "rawType": "int64",
         "type": "integer"
        },
        {
         "name": "City",
         "rawType": "object",
         "type": "string"
        },
        {
         "name": "Address",
         "rawType": "object",
         "type": "string"
        },
        {
         "name": "Locality",
         "rawType": "object",
         "type": "string"
        },
        {
         "name": "Locality Verbose",
         "rawType": "object",
         "type": "string"
        },
        {
         "name": "Longitude",
         "rawType": "float64",
         "type": "float"
        },
        {
         "name": "Latitude",
         "rawType": "float64",
         "type": "float"
        },
        {
         "name": "Cuisines",
         "rawType": "object",
         "type": "string"
        },
        {
         "name": "Average Cost for two",
         "rawType": "int64",
         "type": "integer"
        },
        {
         "name": "Currency",
         "rawType": "object",
         "type": "string"
        },
        {
         "name": "Has Table booking",
         "rawType": "object",
         "type": "string"
        },
        {
         "name": "Has Online delivery",
         "rawType": "object",
         "type": "string"
        },
        {
         "name": "Is delivering now",
         "rawType": "object",
         "type": "string"
        },
        {
         "name": "Switch to order menu",
         "rawType": "object",
         "type": "string"
        },
        {
         "name": "Price range",
         "rawType": "int64",
         "type": "integer"
        },
        {
         "name": "Aggregate rating",
         "rawType": "float64",
         "type": "float"
        },
        {
         "name": "Rating color",
         "rawType": "object",
         "type": "string"
        },
        {
         "name": "Rating text",
         "rawType": "object",
         "type": "string"
        },
        {
         "name": "Votes",
         "rawType": "int64",
         "type": "integer"
        }
       ],
       "ref": "d5e37cda-df9d-4790-a271-228f889d8443",
       "rows": [
        [
         "0",
         "6317637",
         "Le Petit Souffle",
         "162",
         "Makati City",
         "Third Floor, Century City Mall, Kalayaan Avenue, Poblacion, Makati City",
         "Century City Mall, Poblacion, Makati City",
         "Century City Mall, Poblacion, Makati City, Makati City",
         "121.027535",
         "14.565443",
         "French, Japanese, Desserts",
         "1100",
         "Botswana Pula(P)",
         "Yes",
         "No",
         "No",
         "No",
         "3",
         "4.8",
         "Dark Green",
         "Excellent",
         "314"
        ],
        [
         "1",
         "6304287",
         "Izakaya Kikufuji",
         "162",
         "Makati City",
         "Little Tokyo, 2277 Chino Roces Avenue, Legaspi Village, Makati City",
         "Little Tokyo, Legaspi Village, Makati City",
         "Little Tokyo, Legaspi Village, Makati City, Makati City",
         "121.014101",
         "14.553708",
         "Japanese",
         "1200",
         "Botswana Pula(P)",
         "Yes",
         "No",
         "No",
         "No",
         "3",
         "4.5",
         "Dark Green",
         "Excellent",
         "591"
        ],
        [
         "2",
         "6300002",
         "Heat - Edsa Shangri-La",
         "162",
         "Mandaluyong City",
         "Edsa Shangri-La, 1 Garden Way, Ortigas, Mandaluyong City",
         "Edsa Shangri-La, Ortigas, Mandaluyong City",
         "Edsa Shangri-La, Ortigas, Mandaluyong City, Mandaluyong City",
         "121.056831",
         "14.581404",
         "Seafood, Asian, Filipino, Indian",
         "4000",
         "Botswana Pula(P)",
         "Yes",
         "No",
         "No",
         "No",
         "4",
         "4.4",
         "Green",
         "Very Good",
         "270"
        ],
        [
         "3",
         "6318506",
         "Ooma",
         "162",
         "Mandaluyong City",
         "Third Floor, Mega Fashion Hall, SM Megamall, Ortigas, Mandaluyong City",
         "SM Megamall, Ortigas, Mandaluyong City",
         "SM Megamall, Ortigas, Mandaluyong City, Mandaluyong City",
         "121.056475",
         "14.585318",
         "Japanese, Sushi",
         "1500",
         "Botswana Pula(P)",
         "No",
         "No",
         "No",
         "No",
         "4",
         "4.9",
         "Dark Green",
         "Excellent",
         "365"
        ],
        [
         "4",
         "6314302",
         "Sambo Kojin",
         "162",
         "Mandaluyong City",
         "Third Floor, Mega Atrium, SM Megamall, Ortigas, Mandaluyong City",
         "SM Megamall, Ortigas, Mandaluyong City",
         "SM Megamall, Ortigas, Mandaluyong City, Mandaluyong City",
         "121.057508",
         "14.58445",
         "Japanese, Korean",
         "1500",
         "Botswana Pula(P)",
         "Yes",
         "No",
         "No",
         "No",
         "4",
         "4.8",
         "Dark Green",
         "Excellent",
         "229"
        ]
       ],
       "shape": {
        "columns": 21,
        "rows": 5
       }
      },
      "text/html": [
       "<div>\n",
       "<style scoped>\n",
       "    .dataframe tbody tr th:only-of-type {\n",
       "        vertical-align: middle;\n",
       "    }\n",
       "\n",
       "    .dataframe tbody tr th {\n",
       "        vertical-align: top;\n",
       "    }\n",
       "\n",
       "    .dataframe thead th {\n",
       "        text-align: right;\n",
       "    }\n",
       "</style>\n",
       "<table border=\"1\" class=\"dataframe\">\n",
       "  <thead>\n",
       "    <tr style=\"text-align: right;\">\n",
       "      <th></th>\n",
       "      <th>Restaurant ID</th>\n",
       "      <th>Restaurant Name</th>\n",
       "      <th>Country Code</th>\n",
       "      <th>City</th>\n",
       "      <th>Address</th>\n",
       "      <th>Locality</th>\n",
       "      <th>Locality Verbose</th>\n",
       "      <th>Longitude</th>\n",
       "      <th>Latitude</th>\n",
       "      <th>Cuisines</th>\n",
       "      <th>...</th>\n",
       "      <th>Currency</th>\n",
       "      <th>Has Table booking</th>\n",
       "      <th>Has Online delivery</th>\n",
       "      <th>Is delivering now</th>\n",
       "      <th>Switch to order menu</th>\n",
       "      <th>Price range</th>\n",
       "      <th>Aggregate rating</th>\n",
       "      <th>Rating color</th>\n",
       "      <th>Rating text</th>\n",
       "      <th>Votes</th>\n",
       "    </tr>\n",
       "  </thead>\n",
       "  <tbody>\n",
       "    <tr>\n",
       "      <th>0</th>\n",
       "      <td>6317637</td>\n",
       "      <td>Le Petit Souffle</td>\n",
       "      <td>162</td>\n",
       "      <td>Makati City</td>\n",
       "      <td>Third Floor, Century City Mall, Kalayaan Avenu...</td>\n",
       "      <td>Century City Mall, Poblacion, Makati City</td>\n",
       "      <td>Century City Mall, Poblacion, Makati City, Mak...</td>\n",
       "      <td>121.027535</td>\n",
       "      <td>14.565443</td>\n",
       "      <td>French, Japanese, Desserts</td>\n",
       "      <td>...</td>\n",
       "      <td>Botswana Pula(P)</td>\n",
       "      <td>Yes</td>\n",
       "      <td>No</td>\n",
       "      <td>No</td>\n",
       "      <td>No</td>\n",
       "      <td>3</td>\n",
       "      <td>4.8</td>\n",
       "      <td>Dark Green</td>\n",
       "      <td>Excellent</td>\n",
       "      <td>314</td>\n",
       "    </tr>\n",
       "    <tr>\n",
       "      <th>1</th>\n",
       "      <td>6304287</td>\n",
       "      <td>Izakaya Kikufuji</td>\n",
       "      <td>162</td>\n",
       "      <td>Makati City</td>\n",
       "      <td>Little Tokyo, 2277 Chino Roces Avenue, Legaspi...</td>\n",
       "      <td>Little Tokyo, Legaspi Village, Makati City</td>\n",
       "      <td>Little Tokyo, Legaspi Village, Makati City, Ma...</td>\n",
       "      <td>121.014101</td>\n",
       "      <td>14.553708</td>\n",
       "      <td>Japanese</td>\n",
       "      <td>...</td>\n",
       "      <td>Botswana Pula(P)</td>\n",
       "      <td>Yes</td>\n",
       "      <td>No</td>\n",
       "      <td>No</td>\n",
       "      <td>No</td>\n",
       "      <td>3</td>\n",
       "      <td>4.5</td>\n",
       "      <td>Dark Green</td>\n",
       "      <td>Excellent</td>\n",
       "      <td>591</td>\n",
       "    </tr>\n",
       "    <tr>\n",
       "      <th>2</th>\n",
       "      <td>6300002</td>\n",
       "      <td>Heat - Edsa Shangri-La</td>\n",
       "      <td>162</td>\n",
       "      <td>Mandaluyong City</td>\n",
       "      <td>Edsa Shangri-La, 1 Garden Way, Ortigas, Mandal...</td>\n",
       "      <td>Edsa Shangri-La, Ortigas, Mandaluyong City</td>\n",
       "      <td>Edsa Shangri-La, Ortigas, Mandaluyong City, Ma...</td>\n",
       "      <td>121.056831</td>\n",
       "      <td>14.581404</td>\n",
       "      <td>Seafood, Asian, Filipino, Indian</td>\n",
       "      <td>...</td>\n",
       "      <td>Botswana Pula(P)</td>\n",
       "      <td>Yes</td>\n",
       "      <td>No</td>\n",
       "      <td>No</td>\n",
       "      <td>No</td>\n",
       "      <td>4</td>\n",
       "      <td>4.4</td>\n",
       "      <td>Green</td>\n",
       "      <td>Very Good</td>\n",
       "      <td>270</td>\n",
       "    </tr>\n",
       "    <tr>\n",
       "      <th>3</th>\n",
       "      <td>6318506</td>\n",
       "      <td>Ooma</td>\n",
       "      <td>162</td>\n",
       "      <td>Mandaluyong City</td>\n",
       "      <td>Third Floor, Mega Fashion Hall, SM Megamall, O...</td>\n",
       "      <td>SM Megamall, Ortigas, Mandaluyong City</td>\n",
       "      <td>SM Megamall, Ortigas, Mandaluyong City, Mandal...</td>\n",
       "      <td>121.056475</td>\n",
       "      <td>14.585318</td>\n",
       "      <td>Japanese, Sushi</td>\n",
       "      <td>...</td>\n",
       "      <td>Botswana Pula(P)</td>\n",
       "      <td>No</td>\n",
       "      <td>No</td>\n",
       "      <td>No</td>\n",
       "      <td>No</td>\n",
       "      <td>4</td>\n",
       "      <td>4.9</td>\n",
       "      <td>Dark Green</td>\n",
       "      <td>Excellent</td>\n",
       "      <td>365</td>\n",
       "    </tr>\n",
       "    <tr>\n",
       "      <th>4</th>\n",
       "      <td>6314302</td>\n",
       "      <td>Sambo Kojin</td>\n",
       "      <td>162</td>\n",
       "      <td>Mandaluyong City</td>\n",
       "      <td>Third Floor, Mega Atrium, SM Megamall, Ortigas...</td>\n",
       "      <td>SM Megamall, Ortigas, Mandaluyong City</td>\n",
       "      <td>SM Megamall, Ortigas, Mandaluyong City, Mandal...</td>\n",
       "      <td>121.057508</td>\n",
       "      <td>14.584450</td>\n",
       "      <td>Japanese, Korean</td>\n",
       "      <td>...</td>\n",
       "      <td>Botswana Pula(P)</td>\n",
       "      <td>Yes</td>\n",
       "      <td>No</td>\n",
       "      <td>No</td>\n",
       "      <td>No</td>\n",
       "      <td>4</td>\n",
       "      <td>4.8</td>\n",
       "      <td>Dark Green</td>\n",
       "      <td>Excellent</td>\n",
       "      <td>229</td>\n",
       "    </tr>\n",
       "  </tbody>\n",
       "</table>\n",
       "<p>5 rows × 21 columns</p>\n",
       "</div>"
      ],
      "text/plain": [
       "   Restaurant ID         Restaurant Name  Country Code              City  \\\n",
       "0        6317637        Le Petit Souffle           162       Makati City   \n",
       "1        6304287        Izakaya Kikufuji           162       Makati City   \n",
       "2        6300002  Heat - Edsa Shangri-La           162  Mandaluyong City   \n",
       "3        6318506                    Ooma           162  Mandaluyong City   \n",
       "4        6314302             Sambo Kojin           162  Mandaluyong City   \n",
       "\n",
       "                                             Address  \\\n",
       "0  Third Floor, Century City Mall, Kalayaan Avenu...   \n",
       "1  Little Tokyo, 2277 Chino Roces Avenue, Legaspi...   \n",
       "2  Edsa Shangri-La, 1 Garden Way, Ortigas, Mandal...   \n",
       "3  Third Floor, Mega Fashion Hall, SM Megamall, O...   \n",
       "4  Third Floor, Mega Atrium, SM Megamall, Ortigas...   \n",
       "\n",
       "                                     Locality  \\\n",
       "0   Century City Mall, Poblacion, Makati City   \n",
       "1  Little Tokyo, Legaspi Village, Makati City   \n",
       "2  Edsa Shangri-La, Ortigas, Mandaluyong City   \n",
       "3      SM Megamall, Ortigas, Mandaluyong City   \n",
       "4      SM Megamall, Ortigas, Mandaluyong City   \n",
       "\n",
       "                                    Locality Verbose   Longitude   Latitude  \\\n",
       "0  Century City Mall, Poblacion, Makati City, Mak...  121.027535  14.565443   \n",
       "1  Little Tokyo, Legaspi Village, Makati City, Ma...  121.014101  14.553708   \n",
       "2  Edsa Shangri-La, Ortigas, Mandaluyong City, Ma...  121.056831  14.581404   \n",
       "3  SM Megamall, Ortigas, Mandaluyong City, Mandal...  121.056475  14.585318   \n",
       "4  SM Megamall, Ortigas, Mandaluyong City, Mandal...  121.057508  14.584450   \n",
       "\n",
       "                           Cuisines  ...          Currency Has Table booking  \\\n",
       "0        French, Japanese, Desserts  ...  Botswana Pula(P)               Yes   \n",
       "1                          Japanese  ...  Botswana Pula(P)               Yes   \n",
       "2  Seafood, Asian, Filipino, Indian  ...  Botswana Pula(P)               Yes   \n",
       "3                   Japanese, Sushi  ...  Botswana Pula(P)                No   \n",
       "4                  Japanese, Korean  ...  Botswana Pula(P)               Yes   \n",
       "\n",
       "  Has Online delivery Is delivering now Switch to order menu Price range  \\\n",
       "0                  No                No                   No           3   \n",
       "1                  No                No                   No           3   \n",
       "2                  No                No                   No           4   \n",
       "3                  No                No                   No           4   \n",
       "4                  No                No                   No           4   \n",
       "\n",
       "   Aggregate rating  Rating color Rating text Votes  \n",
       "0               4.8    Dark Green   Excellent   314  \n",
       "1               4.5    Dark Green   Excellent   591  \n",
       "2               4.4         Green   Very Good   270  \n",
       "3               4.9    Dark Green   Excellent   365  \n",
       "4               4.8    Dark Green   Excellent   229  \n",
       "\n",
       "[5 rows x 21 columns]"
      ]
     },
     "execution_count": 590,
     "metadata": {},
     "output_type": "execute_result"
    }
   ],
   "source": [
    "# Load the dataset from a CSV file\n",
    "df_rating= pd.read_csv('Dataset.csv',)\n",
    "df_rating.head()"
   ]
  },
  {
   "cell_type": "code",
   "execution_count": null,
   "id": "e0bb5f9a",
   "metadata": {},
   "outputs": [
    {
     "data": {
      "text/plain": [
       "(9551, 21)"
      ]
     },
     "execution_count": 591,
     "metadata": {},
     "output_type": "execute_result"
    }
   ],
   "source": [
    "# Check the rows and columns of the dataset\n",
    "df_rating.shape"
   ]
  },
  {
   "cell_type": "code",
   "execution_count": null,
   "id": "bb54063d",
   "metadata": {},
   "outputs": [
    {
     "name": "stdout",
     "output_type": "stream",
     "text": [
      "<class 'pandas.core.frame.DataFrame'>\n",
      "RangeIndex: 9551 entries, 0 to 9550\n",
      "Data columns (total 21 columns):\n",
      " #   Column                Non-Null Count  Dtype  \n",
      "---  ------                --------------  -----  \n",
      " 0   Restaurant ID         9551 non-null   int64  \n",
      " 1   Restaurant Name       9551 non-null   object \n",
      " 2   Country Code          9551 non-null   int64  \n",
      " 3   City                  9551 non-null   object \n",
      " 4   Address               9551 non-null   object \n",
      " 5   Locality              9551 non-null   object \n",
      " 6   Locality Verbose      9551 non-null   object \n",
      " 7   Longitude             9551 non-null   float64\n",
      " 8   Latitude              9551 non-null   float64\n",
      " 9   Cuisines              9542 non-null   object \n",
      " 10  Average Cost for two  9551 non-null   int64  \n",
      " 11  Currency              9551 non-null   object \n",
      " 12  Has Table booking     9551 non-null   object \n",
      " 13  Has Online delivery   9551 non-null   object \n",
      " 14  Is delivering now     9551 non-null   object \n",
      " 15  Switch to order menu  9551 non-null   object \n",
      " 16  Price range           9551 non-null   int64  \n",
      " 17  Aggregate rating      9551 non-null   float64\n",
      " 18  Rating color          9551 non-null   object \n",
      " 19  Rating text           9551 non-null   object \n",
      " 20  Votes                 9551 non-null   int64  \n",
      "dtypes: float64(3), int64(5), object(13)\n",
      "memory usage: 1.5+ MB\n"
     ]
    }
   ],
   "source": [
    "# Check the data types and non-null values in the dataset\n",
    "df_rating.info()"
   ]
  },
  {
   "cell_type": "markdown",
   "id": "8c503033",
   "metadata": {},
   "source": [
    "- Check Null Values"
   ]
  },
  {
   "cell_type": "code",
   "execution_count": null,
   "id": "66b74d58",
   "metadata": {},
   "outputs": [
    {
     "data": {
      "application/vnd.microsoft.datawrangler.viewer.v0+json": {
       "columns": [
        {
         "name": "index",
         "rawType": "object",
         "type": "string"
        },
        {
         "name": "0",
         "rawType": "int64",
         "type": "integer"
        }
       ],
       "ref": "6c6c26e2-b5d2-4b61-b105-f10bb5d4d9e4",
       "rows": [
        [
         "Restaurant ID",
         "0"
        ],
        [
         "Restaurant Name",
         "0"
        ],
        [
         "Country Code",
         "0"
        ],
        [
         "City",
         "0"
        ],
        [
         "Address",
         "0"
        ],
        [
         "Locality",
         "0"
        ],
        [
         "Locality Verbose",
         "0"
        ],
        [
         "Longitude",
         "0"
        ],
        [
         "Latitude",
         "0"
        ],
        [
         "Cuisines",
         "9"
        ],
        [
         "Average Cost for two",
         "0"
        ],
        [
         "Currency",
         "0"
        ],
        [
         "Has Table booking",
         "0"
        ],
        [
         "Has Online delivery",
         "0"
        ],
        [
         "Is delivering now",
         "0"
        ],
        [
         "Switch to order menu",
         "0"
        ],
        [
         "Price range",
         "0"
        ],
        [
         "Aggregate rating",
         "0"
        ],
        [
         "Rating color",
         "0"
        ],
        [
         "Rating text",
         "0"
        ],
        [
         "Votes",
         "0"
        ]
       ],
       "shape": {
        "columns": 1,
        "rows": 21
       }
      },
      "text/plain": [
       "Restaurant ID           0\n",
       "Restaurant Name         0\n",
       "Country Code            0\n",
       "City                    0\n",
       "Address                 0\n",
       "Locality                0\n",
       "Locality Verbose        0\n",
       "Longitude               0\n",
       "Latitude                0\n",
       "Cuisines                9\n",
       "Average Cost for two    0\n",
       "Currency                0\n",
       "Has Table booking       0\n",
       "Has Online delivery     0\n",
       "Is delivering now       0\n",
       "Switch to order menu    0\n",
       "Price range             0\n",
       "Aggregate rating        0\n",
       "Rating color            0\n",
       "Rating text             0\n",
       "Votes                   0\n",
       "dtype: int64"
      ]
     },
     "execution_count": 593,
     "metadata": {},
     "output_type": "execute_result"
    }
   ],
   "source": [
    "# Check for missing values in the dataset\n",
    "df_rating.isna().sum()"
   ]
  },
  {
   "cell_type": "markdown",
   "id": "cd31e097",
   "metadata": {},
   "source": [
    "- Handle Missing(Null) value"
   ]
  },
  {
   "cell_type": "code",
   "execution_count": null,
   "id": "5afca992",
   "metadata": {},
   "outputs": [],
   "source": [
    "# Fill missing values in 'Cuisines' column with the mode of the column\n",
    "df_rating['Cuisines'] = df_rating['Cuisines'].fillna(df_rating['Cuisines'].mode()[0])"
   ]
  },
  {
   "cell_type": "code",
   "execution_count": null,
   "id": "c8a8090b",
   "metadata": {},
   "outputs": [
    {
     "data": {
      "application/vnd.microsoft.datawrangler.viewer.v0+json": {
       "columns": [
        {
         "name": "index",
         "rawType": "object",
         "type": "string"
        },
        {
         "name": "0",
         "rawType": "int64",
         "type": "integer"
        }
       ],
       "ref": "3cdc5fa5-1015-4330-81d9-566a14100d7e",
       "rows": [
        [
         "Restaurant ID",
         "0"
        ],
        [
         "Restaurant Name",
         "0"
        ],
        [
         "Country Code",
         "0"
        ],
        [
         "City",
         "0"
        ],
        [
         "Address",
         "0"
        ],
        [
         "Locality",
         "0"
        ],
        [
         "Locality Verbose",
         "0"
        ],
        [
         "Longitude",
         "0"
        ],
        [
         "Latitude",
         "0"
        ],
        [
         "Cuisines",
         "0"
        ],
        [
         "Average Cost for two",
         "0"
        ],
        [
         "Currency",
         "0"
        ],
        [
         "Has Table booking",
         "0"
        ],
        [
         "Has Online delivery",
         "0"
        ],
        [
         "Is delivering now",
         "0"
        ],
        [
         "Switch to order menu",
         "0"
        ],
        [
         "Price range",
         "0"
        ],
        [
         "Aggregate rating",
         "0"
        ],
        [
         "Rating color",
         "0"
        ],
        [
         "Rating text",
         "0"
        ],
        [
         "Votes",
         "0"
        ]
       ],
       "shape": {
        "columns": 1,
        "rows": 21
       }
      },
      "text/plain": [
       "Restaurant ID           0\n",
       "Restaurant Name         0\n",
       "Country Code            0\n",
       "City                    0\n",
       "Address                 0\n",
       "Locality                0\n",
       "Locality Verbose        0\n",
       "Longitude               0\n",
       "Latitude                0\n",
       "Cuisines                0\n",
       "Average Cost for two    0\n",
       "Currency                0\n",
       "Has Table booking       0\n",
       "Has Online delivery     0\n",
       "Is delivering now       0\n",
       "Switch to order menu    0\n",
       "Price range             0\n",
       "Aggregate rating        0\n",
       "Rating color            0\n",
       "Rating text             0\n",
       "Votes                   0\n",
       "dtype: int64"
      ]
     },
     "execution_count": 595,
     "metadata": {},
     "output_type": "execute_result"
    }
   ],
   "source": [
    "# Check again for missing values in the dataset\n",
    "df_rating.isna().sum()"
   ]
  },
  {
   "cell_type": "markdown",
   "id": "21ddeb0d",
   "metadata": {},
   "source": [
    "- Check for Duplicate values"
   ]
  },
  {
   "cell_type": "code",
   "execution_count": null,
   "id": "6f9dac12",
   "metadata": {},
   "outputs": [
    {
     "data": {
      "text/plain": [
       "0"
      ]
     },
     "execution_count": 596,
     "metadata": {},
     "output_type": "execute_result"
    }
   ],
   "source": [
    "# Check for duplicates\n",
    "df_rating.duplicated().sum()"
   ]
  },
  {
   "cell_type": "markdown",
   "id": "ebf49723",
   "metadata": {},
   "source": [
    "- __Understanding Feature Influence on Restaurant Ratings__"
   ]
  },
  {
   "cell_type": "code",
   "execution_count": null,
   "id": "336e0b64",
   "metadata": {},
   "outputs": [
    {
     "data": {
      "image/png": "[encoded data removed]",
      "text/plain": [
       "<Figure size 1200x600 with 2 Axes>"
      ]
     },
     "metadata": {},
     "output_type": "display_data"
    }
   ],
   "source": [
    "# heatmap to visualize the correlation between features and the target variable\n",
    "numeric_cols = df_rating.select_dtypes(include=[\"number\"])\n",
    "# Plotting the correlation heatmap\n",
    "plt.figure(figsize=(12, 6))\n",
    "sns.heatmap(numeric_cols.corr(), annot=True, cmap=\"coolwarm\", fmt=\".2f\")\n",
    "plt.title(\"Feature Correlation Heatmap\")\n",
    "plt.show()"
   ]
  },
  {
   "cell_type": "markdown",
   "id": "f916eabf",
   "metadata": {},
   "source": [
    "- Observation\n",
    "    - Price Range & Aggregate Rating (0.44 correlation)\n",
    "        - Moderate positive relationship \n",
    "        - price category may influence ratings.\n",
    "    - Votes & Aggregate Rating (0.36 correlation)\n",
    "        - More votes typically lead to more reliable ratings.\n",
    "\n",
    "    - Longitude & Country Code (-0.70 correlation)\n",
    "        - Negative correlation suggests they don’t strongly influence restaurant ratings.\n",
    "    - Latitude & Aggregate Rating (~0 correlation)\n",
    "        - No meaningful relationship detected\n"
   ]
  },
  {
   "cell_type": "markdown",
   "id": "265e3bf3",
   "metadata": {},
   "source": [
    "- Pairplot to check non linear relationship"
   ]
  },
  {
   "cell_type": "code",
   "execution_count": null,
   "id": "8ddaf6ec",
   "metadata": {},
   "outputs": [
    {
     "data": {
      "image/png": "[encoded data removed]",
      "text/plain": [
       "<Figure size 1000x1000 with 20 Axes>"
      ]
     },
     "metadata": {},
     "output_type": "display_data"
    }
   ],
   "source": [
    "# Select only numeric columns for pairplot\n",
    "numeric_features = [\"Average Cost for two\", \"Votes\", \"Price range\", \"Aggregate rating\"]\n",
    "sns.pairplot(df_rating[numeric_features]) # Pairplot to visualize relationships\n",
    "plt.show()"
   ]
  },
  {
   "cell_type": "markdown",
   "id": "7f8dd1c1",
   "metadata": {},
   "source": [
    "- Observation\n",
    "    - Votes vs. Aggregate Rating\n",
    "        - Appears positively correlated—restaurants with more votes tend to have higher ratings.\n",
    "    - Price Range vs. Aggregate Rating\n",
    "        - Slight upward trend—higher-priced restaurants may receive better ratings.\n",
    "    - Average Cost for Two vs. Aggregate Rating\n",
    "        - No strong pattern, suggesting cost alone may not determine ratings.\n",
    "    - Outliers\n",
    "        - Some extreme values in Votes or Average Cost for Two these should be checked.\n"
   ]
  },
  {
   "cell_type": "code",
   "execution_count": null,
   "id": "9eaa7aed",
   "metadata": {},
   "outputs": [
    {
     "data": {
      "text/plain": [
       "Index(['Restaurant ID', 'Restaurant Name', 'Country Code', 'City', 'Address',\n",
       "       'Locality', 'Locality Verbose', 'Longitude', 'Latitude', 'Cuisines',\n",
       "       'Average Cost for two', 'Currency', 'Has Table booking',\n",
       "       'Has Online delivery', 'Is delivering now', 'Switch to order menu',\n",
       "       'Price range', 'Aggregate rating', 'Rating color', 'Rating text',\n",
       "       'Votes'],\n",
       "      dtype='object')"
      ]
     },
     "execution_count": 600,
     "metadata": {},
     "output_type": "execute_result"
    }
   ],
   "source": [
    "# Display the columns of the DataFrame for reference\n",
    "df_rating.columns"
   ]
  },
  {
   "cell_type": "code",
   "execution_count": null,
   "id": "d1e9859f",
   "metadata": {},
   "outputs": [],
   "source": [
    "# Select relevant features for the model\n",
    "df_model = df_rating[[\"Average Cost for two\", \"Votes\", \"Price range\", \"Has Table booking\", \"Has Online delivery\", \"City\", \"Locality\", \"Cuisines\", \"Rating text\",\"Aggregate rating\"]]"
   ]
  },
  {
   "cell_type": "code",
   "execution_count": null,
   "id": "bc0ec6a2",
   "metadata": {},
   "outputs": [
    {
     "name": "stdout",
     "output_type": "stream",
     "text": [
      "       Average Cost for two         Votes  Price range  Aggregate rating\n",
      "count           9551.000000   9551.000000  9551.000000       9551.000000\n",
      "mean            1199.210763    156.909748     1.804837          2.666370\n",
      "std            16121.183073    430.169145     0.905609          1.516378\n",
      "min                0.000000      0.000000     1.000000          0.000000\n",
      "25%              250.000000      5.000000     1.000000          2.500000\n",
      "50%              400.000000     31.000000     2.000000          3.200000\n",
      "75%              700.000000    131.000000     2.000000          3.700000\n",
      "max           800000.000000  10934.000000     4.000000          4.900000\n"
     ]
    }
   ],
   "source": [
    "# statistics before removing outliers\n",
    "print(df_model.describe())"
   ]
  },
  {
   "cell_type": "markdown",
   "id": "da0b8650",
   "metadata": {},
   "source": [
    "- __Average Cost for two__:\n",
    "    - Mean ₹1199 vs. median ₹400 → clear skew.\n",
    "    - Max value ₹800,000 is anomaly.\n",
    "    - Standard deviation is absurdly high at ₹16,121.\n",
    "- __Votes__:\n",
    "    - Median is just 31, but max reaches 10,934.\n",
    "    - Standard deviation (~430) is nearly triple the mean.\n",
    "- __Next Step__\n",
    "    - Remove extreme outliers from Average Cost for two using IQR method\n",
    "    - Cap (Winsorize) both Votes and cost within 5–95th percentiles\n",
    "    - Log transform both features to normalize scale\n",
    "\n"
   ]
  },
  {
   "cell_type": "markdown",
   "id": "2364d5ab",
   "metadata": {},
   "source": [
    "- __Outliers Detection__"
   ]
  },
  {
   "cell_type": "code",
   "execution_count": 615,
   "id": "0343d7c1",
   "metadata": {},
   "outputs": [],
   "source": [
    "# Function to detect outliers using boxplot\n",
    "def plot_outlier_detection(df, plot_type='boxplot'):\n",
    "    # Create a single row with 2 subplots\n",
    "    fig, axes = plt.subplots(1, 2, figsize=(12, 6))\n",
    "    # Loop through subplots\n",
    "    for ax, feature in zip(axes, df.columns):\n",
    "        if plot_type == 'boxplot':\n",
    "            # Create a boxplot for each feature\n",
    "            sns.boxplot(y=df[feature], ax=ax)\n",
    "            ax.set_title(f\"Boxplot of {feature}\")\n",
    "        elif plot_type == 'histplot':\n",
    "            # Create a histogram for each feature\n",
    "            sns.histplot(df[feature], ax=ax, bins=100, kde=True)\n",
    "            ax.set_title(f\"Histogram of {feature}\")\n",
    "        elif plot_type == 'both':\n",
    "            sns.boxplot(y=df[feature], ax=ax)\n",
    "            ax.set_title(f\"Boxplot of {feature}\")\n",
    "            plt.figure()\n",
    "            sns.histplot(df[feature], bins=100, kde=True)\n",
    "            plt.title(f\"Histogram of {feature}\")\n",
    "    plt.tight_layout()\n",
    "    plt.show()"
   ]
  },
  {
   "cell_type": "code",
   "execution_count": null,
   "id": "c7b72d21",
   "metadata": {},
   "outputs": [
    {
     "data": {
      "image/png": "[encoded data removed]",
      "text/plain": [
       "<Figure size 1200x600 with 2 Axes>"
      ]
     },
     "metadata": {},
     "output_type": "display_data"
    }
   ],
   "source": [
    "# plot outliers using boxplot\n",
    "plot_outlier_detection(df_model)"
   ]
  },
  {
   "cell_type": "markdown",
   "id": "e91d0f62",
   "metadata": {},
   "source": [
    "- Observations\n",
    "    - __Average Cost for Two__\n",
    "        - Extremely high outliers reaching 800,000\n",
    "    - __Votes__\n",
    "        - Most values are low, but a few restaurants have votes near 10,000\n",
    "    - __Price range__\n",
    "        - More balanced"
   ]
  },
  {
   "cell_type": "markdown",
   "id": "3383f12f",
   "metadata": {},
   "source": [
    "- __Handling Outliers__\n"
   ]
  },
  {
   "cell_type": "code",
   "execution_count": null,
   "id": "486f76b1",
   "metadata": {},
   "outputs": [],
   "source": [
    "# Function to remove outliers using IQR method\n",
    "def remove_iqr_outliers(df, col):\n",
    "    Q1 = df[col].quantile(0.25) # First quartile\n",
    "    Q3 = df[col].quantile(0.75) # Third quartile\n",
    "    IQR = Q3 - Q1 # Interquartile range\n",
    "    lower = Q1 - 1.5 * IQR # Lower bound\n",
    "    upper = Q3 + 1.5 * IQR # Upper bound\n",
    "    return df[(df[col] >= lower) & (df[col] <= upper)]\n",
    "\n",
    "# Remove outliers from specified columns\n",
    "for col in [\"Average Cost for two\", \"Votes\"]:\n",
    "    df_model = remove_iqr_outliers(df_model, col)"
   ]
  },
  {
   "cell_type": "markdown",
   "id": "8cbb92b2",
   "metadata": {},
   "source": [
    "- Check Describe Statistics after IQR Outlier Removal"
   ]
  },
  {
   "cell_type": "code",
   "execution_count": null,
   "id": "b24c2ee4",
   "metadata": {},
   "outputs": [
    {
     "name": "stdout",
     "output_type": "stream",
     "text": [
      "       Average Cost for two        Votes  Price range  Aggregate rating\n",
      "count           7685.000000  7685.000000  7685.000000       7685.000000\n",
      "mean             426.391932    43.888744     1.552635          2.373429\n",
      "std              257.744369    57.880810     0.708941          1.525335\n",
      "min                0.000000     0.000000     1.000000          0.000000\n",
      "25%              250.000000     3.000000     1.000000          0.000000\n",
      "50%              400.000000    17.000000     1.000000          3.000000\n",
      "75%              600.000000    64.000000     2.000000          3.400000\n",
      "max             1350.000000   251.000000     4.000000          4.900000\n"
     ]
    }
   ],
   "source": [
    "# statistics after removing outliers\n",
    "print(df_model.describe())"
   ]
  },
  {
   "cell_type": "markdown",
   "id": "239241d3",
   "metadata": {},
   "source": [
    "- Average Cost for two:\n",
    "    - Ranges from ₹0 to ₹1350, with a median of ₹400.\n",
    "    - Distribution is right-skewed, but extreme high-cost outliers have been removed\n",
    "- Votes:\n",
    "    - Median votes = 17, with most restaurants receiving between 3 and 64 votes"
   ]
  },
  {
   "cell_type": "markdown",
   "id": "49e725a4",
   "metadata": {},
   "source": [
    "- Re-plot the boxplots after outlier removal"
   ]
  },
  {
   "cell_type": "code",
   "execution_count": null,
   "id": "44c759a3",
   "metadata": {},
   "outputs": [
    {
     "data": {
      "image/png": "[encoded data removed]",
      "text/plain": [
       "<Figure size 1200x600 with 2 Axes>"
      ]
     },
     "metadata": {},
     "output_type": "display_data"
    }
   ],
   "source": [
    "# Re-plot the outlier detection after removing outliers\n",
    "plot_outlier_detection(df_model)"
   ]
  },
  {
   "cell_type": "markdown",
   "id": "c62d922a",
   "metadata": {},
   "source": [
    "- Observation \n",
    "    - Boxplot of Average Cost for two: \n",
    "        - The distribution is right-skewed\n",
    "        - Median around ₹400 and most data points lie between ₹200 and ₹600 (IQR)\n",
    "        - There are many extreme outliers beyond ₹1000\n",
    "    - Boxplot of Votes:\n",
    "        - The votes feature shows strong right skewness\n",
    "        - median near 50 votes and many outliers goes up to 250."
   ]
  },
  {
   "cell_type": "markdown",
   "id": "7e0f3b02",
   "metadata": {},
   "source": [
    "- __Log transformation__\n",
    "    - For reduces skewness\n",
    "    - used log1p beacuse data has zero value\n"
   ]
  },
  {
   "cell_type": "code",
   "execution_count": null,
   "id": "55d0aa2e",
   "metadata": {},
   "outputs": [],
   "source": [
    "# log1p transformation for skewed features\n",
    "df_model['Average Cost for two'] = np.log1p(df_model['Average Cost for two'])\n",
    "df_model['Votes'] = np.log1p(df_model['Votes'])"
   ]
  },
  {
   "cell_type": "markdown",
   "id": "ec9b4334",
   "metadata": {},
   "source": [
    "- Visualizing Distribution Changes After Log Transformation"
   ]
  },
  {
   "cell_type": "code",
   "execution_count": null,
   "id": "fa6ebd1c",
   "metadata": {},
   "outputs": [
    {
     "data": {
      "image/png": "[encoded data removed]",
      "text/plain": [
       "<Figure size 1200x600 with 2 Axes>"
      ]
     },
     "metadata": {},
     "output_type": "display_data"
    },
    {
     "data": {
      "image/png": "[encoded data removed]",
      "text/plain": [
       "<Figure size 640x480 with 1 Axes>"
      ]
     },
     "metadata": {},
     "output_type": "display_data"
    },
    {
     "data": {
      "image/png": "[encoded data removed]",
      "text/plain": [
       "<Figure size 640x480 with 1 Axes>"
      ]
     },
     "metadata": {},
     "output_type": "display_data"
    }
   ],
   "source": [
    "# call the outlier detection function again to visualize the changes\n",
    "plot_outlier_detection(df_model, plot_type='both')"
   ]
  },
  {
   "cell_type": "markdown",
   "id": "0af6939e",
   "metadata": {},
   "source": [
    "\n",
    "- Average Cost for two:\n",
    "    - Boxplot - After log transformation, you’ve achieved a centered distribution with very few lower-end outliers (log values between 0 and 4).\n",
    "    - Histplot - Most of the log-transformed values are concentrated between 5 and 7, with a smooth peak around 6\n",
    "\n",
    "- Votes:\n",
    "    - Boxplot - The distribution is tight and centered with no visible outliers.\n",
    "    - Histplot - Many restraurant having no review at all that splike at 0\n",
    "\n"
   ]
  },
  {
   "cell_type": "markdown",
   "id": "3e3b1d23",
   "metadata": {},
   "source": [
    "- __Encoding__"
   ]
  },
  {
   "cell_type": "code",
   "execution_count": null,
   "id": "67802b3a",
   "metadata": {},
   "outputs": [],
   "source": [
    "# Function for checking for unique values in categorical columns\n",
    "def unique_values_count(df, columns):\n",
    "    for col in columns:\n",
    "        count = df[col].nunique()\n",
    "        print(f\"{col}: {count} unique values\")\n"
   ]
  },
  {
   "cell_type": "code",
   "execution_count": 623,
   "id": "2c010fd0",
   "metadata": {},
   "outputs": [
    {
     "name": "stdout",
     "output_type": "stream",
     "text": [
      "Has Table booking: 2 unique values\n",
      "Has Online delivery: 2 unique values\n",
      "City: 113 unique values\n",
      "Locality: 817 unique values\n",
      "Cuisines: 1161 unique values\n",
      "Rating text: 6 unique values\n"
     ]
    }
   ],
   "source": [
    "# checking unique values for categorical columns\n",
    "unique_values_count(df_model, df_model.select_dtypes(include=['object']).columns)"
   ]
  },
  {
   "cell_type": "markdown",
   "id": "41beb5b0",
   "metadata": {},
   "source": [
    "- __Rating text__\n",
    "    - 'Rating text' can be ordinal encoded for EDA, it should not be used as a feature in training to avoid __target leakag__\n",
    "- __Has Table booking__ and __Has Online delivery__\n",
    "    -  Label Encoding (Yes → 1, No → 0)\n",
    "- __Locality__\n",
    "    - 817 unique values means *High cardinality* and has many rare locations\n",
    "    - In many cases, locality is nested within city, so city may already capture much of the relevant geographic signal.\n",
    "    - So droping this column\n",
    "- __Cuisines__ - Top-N Encoding\n",
    "    - 1161 unique values means *High cardinality*\n",
    "    - Some cuisines may be more popular in specific cities, can affect restaurant rating.\n",
    "    - we can't drop it so Keep Top 20 + others\n",
    "- __City__ - Frequency Encoding\n",
    "    - Moderate cardinality\n",
    "    - Cover the broader geographic area and correlate with customer preference\n"
   ]
  },
  {
   "cell_type": "code",
   "execution_count": 673,
   "id": "db2dbe5b",
   "metadata": {},
   "outputs": [],
   "source": [
    "# copy the model dataframe for encoding\n",
    "df_encode = df_model.copy()"
   ]
  },
  {
   "cell_type": "code",
   "execution_count": null,
   "id": "ac5553b7",
   "metadata": {},
   "outputs": [
    {
     "data": {
      "text/plain": [
       "(7685, 10)"
      ]
     },
     "execution_count": 649,
     "metadata": {},
     "output_type": "execute_result"
    }
   ],
   "source": [
    "# checking row and column of the dataframe before encoding\n",
    "df_encode.shape"
   ]
  },
  {
   "cell_type": "code",
   "execution_count": 674,
   "id": "e962b7ad",
   "metadata": {},
   "outputs": [],
   "source": [
    "# Function to encode categorical columns\n",
    "def encode_cat_columns(df):\n",
    "    \n",
    "    # drop the unwanted columns first\n",
    "    df = df.drop('Locality', axis=1)\n",
    "    df = df.drop('Rating text', axis=1)\n",
    "    \n",
    "    # Binary encoding \n",
    "    df['Has Online delivery'] = df['Has Online delivery'].map({'Yes': 1, 'No': 0})\n",
    "    df['Has Table booking'] = df['Has Table booking'].map({'Yes': 1, 'No': 0})\n",
    "    \n",
    "    # frequency encoding for 'City'\n",
    "    city_freq = df['City'].value_counts().to_dict() # get frequency of each city in dictionary form\n",
    "    df['City_freq'] = df['City'].map(city_freq) # replacing each city name (key) with its frequency(value) from the dictionary.\n",
    "    # drop the original 'City' column\n",
    "    df = df.drop('City', axis=1)\n",
    "    \n",
    "    # Top N Cuisines Encoding\n",
    "    # Extract the first listed cuisine to reduce complexity in multi-cuisine entries\n",
    "    df['Cuisines'] = df['Cuisines'].str.split(',').str[0].str.strip()\n",
    "    # identify the top 20 most frequent cuisines in the dataset\n",
    "    top_cuisines = df['Cuisines'].value_counts().head(20).index\n",
    "    #Replace less common cuisines with 'Other' to reduce sparsity\n",
    "    df['Cuisines'] = df['Cuisines'].apply(lambda x: x if x in top_cuisines else 'Other')\n",
    "    # Apply One-Hot Encoding to the simplified 'Cuisines' column\n",
    "    df = pd.get_dummies(df, columns=['Cuisines']) \n",
    "    # Convert only the dummy columns to int (preserve other column types)\n",
    "    dummy_cols = [col for col in df.columns if col.startswith('Cuisines_')]\n",
    "    df[dummy_cols] = df[dummy_cols].astype(int)\n",
    "    \n",
    "    return df"
   ]
  },
  {
   "cell_type": "code",
   "execution_count": 675,
   "id": "04d29f8e",
   "metadata": {},
   "outputs": [
    {
     "data": {
      "application/vnd.microsoft.datawrangler.viewer.v0+json": {
       "columns": [
        {
         "name": "index",
         "rawType": "int64",
         "type": "integer"
        },
        {
         "name": "Average Cost for two",
         "rawType": "float64",
         "type": "float"
        },
        {
         "name": "Votes",
         "rawType": "float64",
         "type": "float"
        },
        {
         "name": "Price range",
         "rawType": "int64",
         "type": "integer"
        },
        {
         "name": "Has Table booking",
         "rawType": "int64",
         "type": "integer"
        },
        {
         "name": "Has Online delivery",
         "rawType": "int64",
         "type": "integer"
        },
        {
         "name": "Aggregate rating",
         "rawType": "float64",
         "type": "float"
        },
        {
         "name": "City_freq",
         "rawType": "int64",
         "type": "integer"
        },
        {
         "name": "Cuisines_American",
         "rawType": "int32",
         "type": "integer"
        },
        {
         "name": "Cuisines_Bakery",
         "rawType": "int32",
         "type": "integer"
        },
        {
         "name": "Cuisines_Beverages",
         "rawType": "int32",
         "type": "integer"
        },
        {
         "name": "Cuisines_Biryani",
         "rawType": "int32",
         "type": "integer"
        },
        {
         "name": "Cuisines_Burger",
         "rawType": "int32",
         "type": "integer"
        },
        {
         "name": "Cuisines_Cafe",
         "rawType": "int32",
         "type": "integer"
        },
        {
         "name": "Cuisines_Chinese",
         "rawType": "int32",
         "type": "integer"
        },
        {
         "name": "Cuisines_Continental",
         "rawType": "int32",
         "type": "integer"
        },
        {
         "name": "Cuisines_Desserts",
         "rawType": "int32",
         "type": "integer"
        },
        {
         "name": "Cuisines_Fast Food",
         "rawType": "int32",
         "type": "integer"
        },
        {
         "name": "Cuisines_Healthy Food",
         "rawType": "int32",
         "type": "integer"
        },
        {
         "name": "Cuisines_Ice Cream",
         "rawType": "int32",
         "type": "integer"
        },
        {
         "name": "Cuisines_Italian",
         "rawType": "int32",
         "type": "integer"
        },
        {
         "name": "Cuisines_Mithai",
         "rawType": "int32",
         "type": "integer"
        },
        {
         "name": "Cuisines_Mughlai",
         "rawType": "int32",
         "type": "integer"
        },
        {
         "name": "Cuisines_North Indian",
         "rawType": "int32",
         "type": "integer"
        },
        {
         "name": "Cuisines_Other",
         "rawType": "int32",
         "type": "integer"
        },
        {
         "name": "Cuisines_Pizza",
         "rawType": "int32",
         "type": "integer"
        },
        {
         "name": "Cuisines_Raw Meats",
         "rawType": "int32",
         "type": "integer"
        },
        {
         "name": "Cuisines_South Indian",
         "rawType": "int32",
         "type": "integer"
        },
        {
         "name": "Cuisines_Street Food",
         "rawType": "int32",
         "type": "integer"
        }
       ],
       "ref": "8f6e9c2f-7e9b-43fe-8695-566ea73204b8",
       "rows": [
        [
         "14",
         "6.55250788703459",
         "5.4116460518550396",
         "3",
         "0",
         "0",
         "4.3",
         "1",
         "0",
         "0",
         "0",
         "0",
         "0",
         "0",
         "0",
         "0",
         "0",
         "0",
         "0",
         "0",
         "0",
         "0",
         "0",
         "0",
         "1",
         "0",
         "0",
         "0",
         "0"
        ],
        [
         "15",
         "6.68586094706836",
         "3.4011973816621555",
         "3",
         "0",
         "0",
         "3.6",
         "2",
         "0",
         "0",
         "0",
         "0",
         "0",
         "1",
         "0",
         "0",
         "0",
         "0",
         "0",
         "0",
         "0",
         "0",
         "0",
         "0",
         "0",
         "0",
         "0",
         "0",
         "0"
        ],
        [
         "16",
         "6.7464121285733745",
         "4.290459441148391",
         "3",
         "0",
         "0",
         "4.0",
         "2",
         "0",
         "0",
         "0",
         "0",
         "0",
         "0",
         "0",
         "0",
         "0",
         "0",
         "0",
         "0",
         "1",
         "0",
         "0",
         "0",
         "0",
         "0",
         "0",
         "0",
         "0"
        ],
        [
         "17",
         "7.0909098220799835",
         "5.356586274672012",
         "3",
         "1",
         "0",
         "4.5",
         "1",
         "0",
         "0",
         "0",
         "0",
         "0",
         "0",
         "0",
         "0",
         "0",
         "0",
         "0",
         "0",
         "0",
         "0",
         "0",
         "0",
         "1",
         "0",
         "0",
         "0",
         "0"
        ],
        [
         "18",
         "6.398594934535208",
         "4.77912349311153",
         "2",
         "0",
         "0",
         "4.5",
         "1",
         "0",
         "0",
         "0",
         "0",
         "0",
         "1",
         "0",
         "0",
         "0",
         "0",
         "0",
         "0",
         "0",
         "0",
         "0",
         "0",
         "0",
         "0",
         "0",
         "0",
         "0"
        ],
        [
         "22",
         "4.02535169073515",
         "1.9459101490553132",
         "2",
         "0",
         "0",
         "3.0",
         "20",
         "0",
         "0",
         "0",
         "0",
         "0",
         "0",
         "0",
         "0",
         "0",
         "1",
         "0",
         "0",
         "0",
         "0",
         "0",
         "0",
         "0",
         "0",
         "0",
         "0",
         "0"
        ],
        [
         "23",
         "3.4339872044851463",
         "2.302585092994046",
         "1",
         "0",
         "0",
         "3.8",
         "20",
         "0",
         "0",
         "0",
         "0",
         "0",
         "1",
         "0",
         "0",
         "0",
         "0",
         "0",
         "0",
         "0",
         "0",
         "0",
         "0",
         "0",
         "0",
         "0",
         "0",
         "0"
        ],
        [
         "24",
         "3.828641396489095",
         "2.4849066497880004",
         "2",
         "0",
         "0",
         "3.7",
         "20",
         "0",
         "1",
         "0",
         "0",
         "0",
         "0",
         "0",
         "0",
         "0",
         "0",
         "0",
         "0",
         "0",
         "0",
         "0",
         "0",
         "0",
         "0",
         "0",
         "0",
         "0"
        ],
        [
         "25",
         "4.110873864173311",
         "2.4849066497880004",
         "3",
         "0",
         "0",
         "3.8",
         "20",
         "0",
         "0",
         "0",
         "0",
         "0",
         "0",
         "0",
         "0",
         "0",
         "0",
         "0",
         "0",
         "0",
         "0",
         "0",
         "0",
         "1",
         "0",
         "0",
         "0",
         "0"
        ],
        [
         "26",
         "3.9318256327243257",
         "2.4849066497880004",
         "2",
         "0",
         "0",
         "3.2",
         "20",
         "0",
         "0",
         "0",
         "0",
         "0",
         "0",
         "0",
         "0",
         "0",
         "0",
         "0",
         "0",
         "0",
         "0",
         "0",
         "0",
         "0",
         "1",
         "0",
         "0",
         "0"
        ],
        [
         "27",
         "4.394449154672439",
         "2.3978952727983707",
         "3",
         "0",
         "0",
         "3.1",
         "20",
         "0",
         "0",
         "0",
         "0",
         "0",
         "0",
         "0",
         "0",
         "0",
         "0",
         "0",
         "0",
         "0",
         "0",
         "0",
         "0",
         "1",
         "0",
         "0",
         "0",
         "0"
        ],
        [
         "28",
         "4.51085950651685",
         "2.1972245773362196",
         "3",
         "0",
         "0",
         "3.7",
         "20",
         "0",
         "0",
         "0",
         "0",
         "0",
         "0",
         "0",
         "0",
         "0",
         "0",
         "0",
         "0",
         "0",
         "0",
         "0",
         "0",
         "1",
         "0",
         "0",
         "0",
         "0"
        ],
        [
         "29",
         "5.303304908059076",
         "1.791759469228055",
         "4",
         "0",
         "0",
         "3.7",
         "20",
         "0",
         "0",
         "0",
         "0",
         "0",
         "0",
         "0",
         "0",
         "0",
         "0",
         "0",
         "0",
         "0",
         "0",
         "0",
         "0",
         "1",
         "0",
         "0",
         "0",
         "0"
        ],
        [
         "30",
         "3.4339872044851463",
         "1.0986122886681098",
         "1",
         "0",
         "0",
         "0.0",
         "20",
         "0",
         "0",
         "0",
         "0",
         "0",
         "0",
         "0",
         "0",
         "0",
         "0",
         "0",
         "0",
         "0",
         "0",
         "0",
         "0",
         "1",
         "0",
         "0",
         "0",
         "0"
        ],
        [
         "31",
         "5.017279836814924",
         "2.5649493574615367",
         "4",
         "0",
         "0",
         "4.1",
         "20",
         "0",
         "0",
         "0",
         "0",
         "0",
         "0",
         "0",
         "0",
         "0",
         "0",
         "0",
         "0",
         "1",
         "0",
         "0",
         "0",
         "0",
         "0",
         "0",
         "0",
         "0"
        ],
        [
         "32",
         "4.61512051684126",
         "2.302585092994046",
         "4",
         "0",
         "0",
         "3.1",
         "20",
         "0",
         "0",
         "0",
         "0",
         "0",
         "0",
         "0",
         "0",
         "0",
         "0",
         "0",
         "0",
         "0",
         "0",
         "0",
         "0",
         "0",
         "1",
         "0",
         "0",
         "0"
        ],
        [
         "33",
         "4.110873864173311",
         "2.302585092994046",
         "3",
         "0",
         "0",
         "3.6",
         "20",
         "0",
         "0",
         "0",
         "0",
         "0",
         "0",
         "0",
         "0",
         "0",
         "0",
         "0",
         "0",
         "0",
         "0",
         "0",
         "0",
         "1",
         "0",
         "0",
         "0",
         "0"
        ],
        [
         "34",
         "4.61512051684126",
         "3.4011973816621555",
         "4",
         "0",
         "0",
         "4.3",
         "20",
         "0",
         "0",
         "0",
         "0",
         "0",
         "0",
         "0",
         "0",
         "0",
         "0",
         "0",
         "0",
         "0",
         "0",
         "0",
         "0",
         "1",
         "0",
         "0",
         "0",
         "0"
        ],
        [
         "35",
         "5.442417710521793",
         "2.8903717578961645",
         "4",
         "0",
         "0",
         "4.2",
         "20",
         "0",
         "0",
         "0",
         "0",
         "0",
         "0",
         "0",
         "0",
         "0",
         "0",
         "0",
         "0",
         "0",
         "0",
         "0",
         "0",
         "1",
         "0",
         "0",
         "0",
         "0"
        ],
        [
         "36",
         "4.61512051684126",
         "1.791759469228055",
         "4",
         "0",
         "0",
         "3.6",
         "20",
         "0",
         "0",
         "0",
         "0",
         "0",
         "0",
         "0",
         "0",
         "0",
         "0",
         "0",
         "0",
         "0",
         "0",
         "0",
         "0",
         "1",
         "0",
         "0",
         "0",
         "0"
        ],
        [
         "37",
         "5.017279836814924",
         "2.3978952727983707",
         "4",
         "0",
         "0",
         "4.0",
         "20",
         "1",
         "0",
         "0",
         "0",
         "0",
         "0",
         "0",
         "0",
         "0",
         "0",
         "0",
         "0",
         "0",
         "0",
         "0",
         "0",
         "0",
         "0",
         "0",
         "0",
         "0"
        ],
        [
         "38",
         "5.484796933490655",
         "1.9459101490553132",
         "4",
         "0",
         "0",
         "3.2",
         "20",
         "0",
         "0",
         "0",
         "0",
         "0",
         "0",
         "0",
         "0",
         "0",
         "0",
         "0",
         "0",
         "0",
         "0",
         "0",
         "0",
         "1",
         "0",
         "0",
         "0",
         "0"
        ],
        [
         "39",
         "5.442417710521793",
         "3.4339872044851463",
         "4",
         "0",
         "0",
         "4.9",
         "20",
         "0",
         "0",
         "0",
         "0",
         "0",
         "0",
         "0",
         "0",
         "0",
         "0",
         "0",
         "0",
         "0",
         "0",
         "0",
         "0",
         "1",
         "0",
         "0",
         "0",
         "0"
        ],
        [
         "40",
         "5.860786223465865",
         "2.1972245773362196",
         "4",
         "0",
         "0",
         "3.3",
         "20",
         "0",
         "0",
         "0",
         "0",
         "0",
         "0",
         "0",
         "0",
         "0",
         "0",
         "0",
         "0",
         "1",
         "0",
         "0",
         "0",
         "0",
         "0",
         "0",
         "0",
         "0"
        ],
        [
         "41",
         "3.9318256327243257",
         "2.302585092994046",
         "2",
         "0",
         "0",
         "3.6",
         "20",
         "1",
         "0",
         "0",
         "0",
         "0",
         "0",
         "0",
         "0",
         "0",
         "0",
         "0",
         "0",
         "0",
         "0",
         "0",
         "0",
         "0",
         "0",
         "0",
         "0",
         "0"
        ],
        [
         "42",
         "4.948759890378168",
         "2.0794415416798357",
         "4",
         "0",
         "0",
         "4.0",
         "20",
         "0",
         "0",
         "0",
         "0",
         "0",
         "0",
         "0",
         "0",
         "0",
         "0",
         "0",
         "0",
         "0",
         "0",
         "0",
         "0",
         "1",
         "0",
         "0",
         "0",
         "0"
        ],
        [
         "43",
         "4.61512051684126",
         "3.4011973816621555",
         "4",
         "0",
         "0",
         "4.8",
         "20",
         "0",
         "0",
         "0",
         "0",
         "0",
         "0",
         "0",
         "0",
         "1",
         "0",
         "0",
         "0",
         "0",
         "0",
         "0",
         "0",
         "0",
         "0",
         "0",
         "0",
         "0"
        ],
        [
         "44",
         "4.110873864173311",
         "3.2188758248682006",
         "3",
         "0",
         "0",
         "4.7",
         "20",
         "0",
         "0",
         "0",
         "0",
         "0",
         "0",
         "0",
         "0",
         "0",
         "0",
         "0",
         "0",
         "0",
         "0",
         "0",
         "0",
         "1",
         "0",
         "0",
         "0",
         "0"
        ],
        [
         "45",
         "4.51085950651685",
         "3.4011973816621555",
         "3",
         "0",
         "0",
         "4.5",
         "20",
         "0",
         "0",
         "1",
         "0",
         "0",
         "0",
         "0",
         "0",
         "0",
         "0",
         "0",
         "0",
         "0",
         "0",
         "0",
         "0",
         "0",
         "0",
         "0",
         "0",
         "0"
        ],
        [
         "46",
         "5.14166355650266",
         "2.4849066497880004",
         "4",
         "0",
         "0",
         "4.2",
         "20",
         "0",
         "0",
         "0",
         "0",
         "0",
         "0",
         "0",
         "0",
         "0",
         "0",
         "0",
         "0",
         "0",
         "0",
         "0",
         "0",
         "1",
         "0",
         "0",
         "0",
         "0"
        ],
        [
         "47",
         "4.110873864173311",
         "2.995732273553991",
         "3",
         "0",
         "0",
         "4.8",
         "20",
         "0",
         "0",
         "0",
         "0",
         "1",
         "0",
         "0",
         "0",
         "0",
         "0",
         "0",
         "0",
         "0",
         "0",
         "0",
         "0",
         "0",
         "0",
         "0",
         "0",
         "0"
        ],
        [
         "48",
         "4.61512051684126",
         "3.713572066704308",
         "4",
         "0",
         "0",
         "4.9",
         "20",
         "0",
         "0",
         "0",
         "0",
         "0",
         "0",
         "0",
         "0",
         "0",
         "0",
         "0",
         "0",
         "0",
         "0",
         "0",
         "0",
         "1",
         "0",
         "0",
         "0",
         "0"
        ],
        [
         "49",
         "4.51085950651685",
         "3.091042453358316",
         "3",
         "0",
         "0",
         "4.6",
         "20",
         "0",
         "0",
         "0",
         "0",
         "0",
         "0",
         "0",
         "0",
         "0",
         "0",
         "0",
         "0",
         "0",
         "0",
         "0",
         "0",
         "1",
         "0",
         "0",
         "0",
         "0"
        ],
        [
         "50",
         "4.795790545596741",
         "3.912023005428146",
         "4",
         "0",
         "0",
         "4.9",
         "20",
         "0",
         "0",
         "0",
         "0",
         "0",
         "0",
         "0",
         "0",
         "0",
         "0",
         "0",
         "0",
         "0",
         "0",
         "0",
         "0",
         "1",
         "0",
         "0",
         "0",
         "0"
        ],
        [
         "51",
         "5.14166355650266",
         "3.091042453358316",
         "4",
         "0",
         "0",
         "4.6",
         "20",
         "0",
         "0",
         "0",
         "0",
         "0",
         "0",
         "0",
         "0",
         "0",
         "0",
         "0",
         "0",
         "0",
         "0",
         "0",
         "0",
         "1",
         "0",
         "0",
         "0",
         "0"
        ],
        [
         "52",
         "4.51085950651685",
         "2.70805020110221",
         "3",
         "0",
         "0",
         "4.3",
         "20",
         "0",
         "0",
         "0",
         "0",
         "0",
         "0",
         "0",
         "0",
         "0",
         "0",
         "0",
         "0",
         "0",
         "0",
         "0",
         "0",
         "1",
         "0",
         "0",
         "0",
         "0"
        ],
        [
         "53",
         "5.017279836814924",
         "1.791759469228055",
         "4",
         "0",
         "0",
         "4.0",
         "20",
         "0",
         "0",
         "0",
         "0",
         "0",
         "0",
         "0",
         "0",
         "0",
         "0",
         "0",
         "0",
         "1",
         "0",
         "0",
         "0",
         "0",
         "0",
         "0",
         "0",
         "0"
        ],
        [
         "54",
         "5.5254529391317835",
         "3.258096538021482",
         "4",
         "0",
         "0",
         "4.6",
         "20",
         "0",
         "0",
         "0",
         "0",
         "0",
         "0",
         "0",
         "0",
         "0",
         "0",
         "0",
         "0",
         "0",
         "0",
         "0",
         "0",
         "1",
         "0",
         "0",
         "0",
         "0"
        ],
        [
         "55",
         "4.795790545596741",
         "2.6390573296152584",
         "4",
         "0",
         "0",
         "4.4",
         "20",
         "0",
         "1",
         "0",
         "0",
         "0",
         "0",
         "0",
         "0",
         "0",
         "0",
         "0",
         "0",
         "0",
         "0",
         "0",
         "0",
         "0",
         "0",
         "0",
         "0",
         "0"
        ],
        [
         "56",
         "3.713572066704308",
         "2.0794415416798357",
         "2",
         "0",
         "0",
         "4.2",
         "20",
         "0",
         "0",
         "0",
         "0",
         "0",
         "0",
         "0",
         "0",
         "0",
         "0",
         "0",
         "0",
         "0",
         "0",
         "0",
         "0",
         "1",
         "0",
         "0",
         "0",
         "0"
        ],
        [
         "57",
         "5.5254529391317835",
         "2.1972245773362196",
         "4",
         "0",
         "0",
         "4.2",
         "20",
         "0",
         "0",
         "0",
         "0",
         "0",
         "0",
         "0",
         "0",
         "0",
         "0",
         "0",
         "0",
         "0",
         "0",
         "0",
         "0",
         "1",
         "0",
         "0",
         "0",
         "0"
        ],
        [
         "58",
         "4.2626798770413155",
         "0.6931471805599453",
         "3",
         "0",
         "0",
         "0.0",
         "20",
         "0",
         "0",
         "0",
         "0",
         "0",
         "0",
         "0",
         "0",
         "0",
         "0",
         "0",
         "0",
         "0",
         "0",
         "0",
         "0",
         "1",
         "0",
         "0",
         "0",
         "0"
        ],
        [
         "59",
         "5.707110264748875",
         "3.8066624897703196",
         "4",
         "0",
         "0",
         "4.7",
         "20",
         "0",
         "0",
         "0",
         "0",
         "0",
         "0",
         "0",
         "0",
         "0",
         "0",
         "0",
         "0",
         "0",
         "0",
         "0",
         "0",
         "1",
         "0",
         "0",
         "0",
         "0"
        ],
        [
         "60",
         "4.454347296253507",
         "3.2188758248682006",
         "3",
         "0",
         "0",
         "4.6",
         "20",
         "0",
         "0",
         "0",
         "0",
         "0",
         "0",
         "0",
         "0",
         "0",
         "0",
         "0",
         "0",
         "0",
         "0",
         "0",
         "0",
         "1",
         "0",
         "0",
         "0",
         "0"
        ],
        [
         "61",
         "4.394449154672439",
         "2.3978952727983707",
         "3",
         "0",
         "0",
         "4.3",
         "20",
         "0",
         "0",
         "0",
         "0",
         "0",
         "0",
         "0",
         "0",
         "0",
         "0",
         "0",
         "0",
         "0",
         "0",
         "0",
         "0",
         "1",
         "0",
         "0",
         "0",
         "0"
        ],
        [
         "62",
         "5.5254529391317835",
         "3.912023005428146",
         "4",
         "0",
         "0",
         "4.5",
         "20",
         "0",
         "0",
         "0",
         "0",
         "0",
         "0",
         "0",
         "0",
         "0",
         "0",
         "0",
         "0",
         "1",
         "0",
         "0",
         "0",
         "0",
         "0",
         "0",
         "0",
         "0"
        ],
        [
         "63",
         "5.5254529391317835",
         "2.8903717578961645",
         "4",
         "0",
         "0",
         "4.4",
         "20",
         "0",
         "0",
         "0",
         "0",
         "0",
         "0",
         "0",
         "0",
         "0",
         "0",
         "0",
         "0",
         "0",
         "0",
         "0",
         "0",
         "1",
         "0",
         "0",
         "0",
         "0"
        ],
        [
         "64",
         "4.2626798770413155",
         "1.791759469228055",
         "3",
         "0",
         "0",
         "3.1",
         "20",
         "0",
         "0",
         "0",
         "0",
         "0",
         "0",
         "0",
         "0",
         "0",
         "0",
         "0",
         "0",
         "0",
         "0",
         "0",
         "0",
         "1",
         "0",
         "0",
         "0",
         "0"
        ],
        [
         "65",
         "4.61512051684126",
         "2.772588722239781",
         "4",
         "0",
         "0",
         "4.1",
         "20",
         "0",
         "0",
         "0",
         "0",
         "0",
         "0",
         "0",
         "0",
         "0",
         "0",
         "0",
         "0",
         "0",
         "0",
         "0",
         "0",
         "1",
         "0",
         "0",
         "0",
         "0"
        ],
        [
         "66",
         "5.707110264748875",
         "4.0943445622221",
         "4",
         "0",
         "0",
         "4.8",
         "20",
         "0",
         "0",
         "1",
         "0",
         "0",
         "0",
         "0",
         "0",
         "0",
         "0",
         "0",
         "0",
         "0",
         "0",
         "0",
         "0",
         "0",
         "0",
         "0",
         "0",
         "0"
        ]
       ],
       "shape": {
        "columns": 28,
        "rows": 7685
       }
      },
      "text/html": [
       "<div>\n",
       "<style scoped>\n",
       "    .dataframe tbody tr th:only-of-type {\n",
       "        vertical-align: middle;\n",
       "    }\n",
       "\n",
       "    .dataframe tbody tr th {\n",
       "        vertical-align: top;\n",
       "    }\n",
       "\n",
       "    .dataframe thead th {\n",
       "        text-align: right;\n",
       "    }\n",
       "</style>\n",
       "<table border=\"1\" class=\"dataframe\">\n",
       "  <thead>\n",
       "    <tr style=\"text-align: right;\">\n",
       "      <th></th>\n",
       "      <th>Average Cost for two</th>\n",
       "      <th>Votes</th>\n",
       "      <th>Price range</th>\n",
       "      <th>Has Table booking</th>\n",
       "      <th>Has Online delivery</th>\n",
       "      <th>Aggregate rating</th>\n",
       "      <th>City_freq</th>\n",
       "      <th>Cuisines_American</th>\n",
       "      <th>Cuisines_Bakery</th>\n",
       "      <th>Cuisines_Beverages</th>\n",
       "      <th>...</th>\n",
       "      <th>Cuisines_Ice Cream</th>\n",
       "      <th>Cuisines_Italian</th>\n",
       "      <th>Cuisines_Mithai</th>\n",
       "      <th>Cuisines_Mughlai</th>\n",
       "      <th>Cuisines_North Indian</th>\n",
       "      <th>Cuisines_Other</th>\n",
       "      <th>Cuisines_Pizza</th>\n",
       "      <th>Cuisines_Raw Meats</th>\n",
       "      <th>Cuisines_South Indian</th>\n",
       "      <th>Cuisines_Street Food</th>\n",
       "    </tr>\n",
       "  </thead>\n",
       "  <tbody>\n",
       "    <tr>\n",
       "      <th>14</th>\n",
       "      <td>6.552508</td>\n",
       "      <td>5.411646</td>\n",
       "      <td>3</td>\n",
       "      <td>0</td>\n",
       "      <td>0</td>\n",
       "      <td>4.3</td>\n",
       "      <td>1</td>\n",
       "      <td>0</td>\n",
       "      <td>0</td>\n",
       "      <td>0</td>\n",
       "      <td>...</td>\n",
       "      <td>0</td>\n",
       "      <td>0</td>\n",
       "      <td>0</td>\n",
       "      <td>0</td>\n",
       "      <td>0</td>\n",
       "      <td>1</td>\n",
       "      <td>0</td>\n",
       "      <td>0</td>\n",
       "      <td>0</td>\n",
       "      <td>0</td>\n",
       "    </tr>\n",
       "    <tr>\n",
       "      <th>15</th>\n",
       "      <td>6.685861</td>\n",
       "      <td>3.401197</td>\n",
       "      <td>3</td>\n",
       "      <td>0</td>\n",
       "      <td>0</td>\n",
       "      <td>3.6</td>\n",
       "      <td>2</td>\n",
       "      <td>0</td>\n",
       "      <td>0</td>\n",
       "      <td>0</td>\n",
       "      <td>...</td>\n",
       "      <td>0</td>\n",
       "      <td>0</td>\n",
       "      <td>0</td>\n",
       "      <td>0</td>\n",
       "      <td>0</td>\n",
       "      <td>0</td>\n",
       "      <td>0</td>\n",
       "      <td>0</td>\n",
       "      <td>0</td>\n",
       "      <td>0</td>\n",
       "    </tr>\n",
       "    <tr>\n",
       "      <th>16</th>\n",
       "      <td>6.746412</td>\n",
       "      <td>4.290459</td>\n",
       "      <td>3</td>\n",
       "      <td>0</td>\n",
       "      <td>0</td>\n",
       "      <td>4.0</td>\n",
       "      <td>2</td>\n",
       "      <td>0</td>\n",
       "      <td>0</td>\n",
       "      <td>0</td>\n",
       "      <td>...</td>\n",
       "      <td>0</td>\n",
       "      <td>1</td>\n",
       "      <td>0</td>\n",
       "      <td>0</td>\n",
       "      <td>0</td>\n",
       "      <td>0</td>\n",
       "      <td>0</td>\n",
       "      <td>0</td>\n",
       "      <td>0</td>\n",
       "      <td>0</td>\n",
       "    </tr>\n",
       "    <tr>\n",
       "      <th>17</th>\n",
       "      <td>7.090910</td>\n",
       "      <td>5.356586</td>\n",
       "      <td>3</td>\n",
       "      <td>1</td>\n",
       "      <td>0</td>\n",
       "      <td>4.5</td>\n",
       "      <td>1</td>\n",
       "      <td>0</td>\n",
       "      <td>0</td>\n",
       "      <td>0</td>\n",
       "      <td>...</td>\n",
       "      <td>0</td>\n",
       "      <td>0</td>\n",
       "      <td>0</td>\n",
       "      <td>0</td>\n",
       "      <td>0</td>\n",
       "      <td>1</td>\n",
       "      <td>0</td>\n",
       "      <td>0</td>\n",
       "      <td>0</td>\n",
       "      <td>0</td>\n",
       "    </tr>\n",
       "    <tr>\n",
       "      <th>18</th>\n",
       "      <td>6.398595</td>\n",
       "      <td>4.779123</td>\n",
       "      <td>2</td>\n",
       "      <td>0</td>\n",
       "      <td>0</td>\n",
       "      <td>4.5</td>\n",
       "      <td>1</td>\n",
       "      <td>0</td>\n",
       "      <td>0</td>\n",
       "      <td>0</td>\n",
       "      <td>...</td>\n",
       "      <td>0</td>\n",
       "      <td>0</td>\n",
       "      <td>0</td>\n",
       "      <td>0</td>\n",
       "      <td>0</td>\n",
       "      <td>0</td>\n",
       "      <td>0</td>\n",
       "      <td>0</td>\n",
       "      <td>0</td>\n",
       "      <td>0</td>\n",
       "    </tr>\n",
       "    <tr>\n",
       "      <th>...</th>\n",
       "      <td>...</td>\n",
       "      <td>...</td>\n",
       "      <td>...</td>\n",
       "      <td>...</td>\n",
       "      <td>...</td>\n",
       "      <td>...</td>\n",
       "      <td>...</td>\n",
       "      <td>...</td>\n",
       "      <td>...</td>\n",
       "      <td>...</td>\n",
       "      <td>...</td>\n",
       "      <td>...</td>\n",
       "      <td>...</td>\n",
       "      <td>...</td>\n",
       "      <td>...</td>\n",
       "      <td>...</td>\n",
       "      <td>...</td>\n",
       "      <td>...</td>\n",
       "      <td>...</td>\n",
       "      <td>...</td>\n",
       "      <td>...</td>\n",
       "    </tr>\n",
       "    <tr>\n",
       "      <th>9532</th>\n",
       "      <td>4.615121</td>\n",
       "      <td>4.644391</td>\n",
       "      <td>3</td>\n",
       "      <td>0</td>\n",
       "      <td>0</td>\n",
       "      <td>4.2</td>\n",
       "      <td>19</td>\n",
       "      <td>0</td>\n",
       "      <td>0</td>\n",
       "      <td>0</td>\n",
       "      <td>...</td>\n",
       "      <td>0</td>\n",
       "      <td>0</td>\n",
       "      <td>0</td>\n",
       "      <td>0</td>\n",
       "      <td>0</td>\n",
       "      <td>1</td>\n",
       "      <td>0</td>\n",
       "      <td>0</td>\n",
       "      <td>0</td>\n",
       "      <td>0</td>\n",
       "    </tr>\n",
       "    <tr>\n",
       "      <th>9533</th>\n",
       "      <td>3.931826</td>\n",
       "      <td>4.644391</td>\n",
       "      <td>2</td>\n",
       "      <td>0</td>\n",
       "      <td>0</td>\n",
       "      <td>4.3</td>\n",
       "      <td>19</td>\n",
       "      <td>0</td>\n",
       "      <td>0</td>\n",
       "      <td>0</td>\n",
       "      <td>...</td>\n",
       "      <td>0</td>\n",
       "      <td>0</td>\n",
       "      <td>0</td>\n",
       "      <td>0</td>\n",
       "      <td>0</td>\n",
       "      <td>1</td>\n",
       "      <td>0</td>\n",
       "      <td>0</td>\n",
       "      <td>0</td>\n",
       "      <td>0</td>\n",
       "    </tr>\n",
       "    <tr>\n",
       "      <th>9534</th>\n",
       "      <td>4.262680</td>\n",
       "      <td>4.882802</td>\n",
       "      <td>3</td>\n",
       "      <td>0</td>\n",
       "      <td>0</td>\n",
       "      <td>4.4</td>\n",
       "      <td>19</td>\n",
       "      <td>0</td>\n",
       "      <td>0</td>\n",
       "      <td>0</td>\n",
       "      <td>...</td>\n",
       "      <td>0</td>\n",
       "      <td>0</td>\n",
       "      <td>0</td>\n",
       "      <td>0</td>\n",
       "      <td>0</td>\n",
       "      <td>1</td>\n",
       "      <td>0</td>\n",
       "      <td>0</td>\n",
       "      <td>0</td>\n",
       "      <td>0</td>\n",
       "    </tr>\n",
       "    <tr>\n",
       "      <th>9535</th>\n",
       "      <td>4.262680</td>\n",
       "      <td>5.030438</td>\n",
       "      <td>3</td>\n",
       "      <td>0</td>\n",
       "      <td>0</td>\n",
       "      <td>4.2</td>\n",
       "      <td>19</td>\n",
       "      <td>0</td>\n",
       "      <td>0</td>\n",
       "      <td>0</td>\n",
       "      <td>...</td>\n",
       "      <td>0</td>\n",
       "      <td>0</td>\n",
       "      <td>0</td>\n",
       "      <td>0</td>\n",
       "      <td>0</td>\n",
       "      <td>1</td>\n",
       "      <td>0</td>\n",
       "      <td>0</td>\n",
       "      <td>0</td>\n",
       "      <td>0</td>\n",
       "    </tr>\n",
       "    <tr>\n",
       "      <th>9536</th>\n",
       "      <td>3.713572</td>\n",
       "      <td>4.653960</td>\n",
       "      <td>2</td>\n",
       "      <td>0</td>\n",
       "      <td>0</td>\n",
       "      <td>4.7</td>\n",
       "      <td>19</td>\n",
       "      <td>0</td>\n",
       "      <td>0</td>\n",
       "      <td>0</td>\n",
       "      <td>...</td>\n",
       "      <td>0</td>\n",
       "      <td>0</td>\n",
       "      <td>0</td>\n",
       "      <td>0</td>\n",
       "      <td>0</td>\n",
       "      <td>0</td>\n",
       "      <td>1</td>\n",
       "      <td>0</td>\n",
       "      <td>0</td>\n",
       "      <td>0</td>\n",
       "    </tr>\n",
       "  </tbody>\n",
       "</table>\n",
       "<p>7685 rows × 28 columns</p>\n",
       "</div>"
      ],
      "text/plain": [
       "      Average Cost for two     Votes  Price range  Has Table booking  \\\n",
       "14                6.552508  5.411646            3                  0   \n",
       "15                6.685861  3.401197            3                  0   \n",
       "16                6.746412  4.290459            3                  0   \n",
       "17                7.090910  5.356586            3                  1   \n",
       "18                6.398595  4.779123            2                  0   \n",
       "...                    ...       ...          ...                ...   \n",
       "9532              4.615121  4.644391            3                  0   \n",
       "9533              3.931826  4.644391            2                  0   \n",
       "9534              4.262680  4.882802            3                  0   \n",
       "9535              4.262680  5.030438            3                  0   \n",
       "9536              3.713572  4.653960            2                  0   \n",
       "\n",
       "      Has Online delivery  Aggregate rating  City_freq  Cuisines_American  \\\n",
       "14                      0               4.3          1                  0   \n",
       "15                      0               3.6          2                  0   \n",
       "16                      0               4.0          2                  0   \n",
       "17                      0               4.5          1                  0   \n",
       "18                      0               4.5          1                  0   \n",
       "...                   ...               ...        ...                ...   \n",
       "9532                    0               4.2         19                  0   \n",
       "9533                    0               4.3         19                  0   \n",
       "9534                    0               4.4         19                  0   \n",
       "9535                    0               4.2         19                  0   \n",
       "9536                    0               4.7         19                  0   \n",
       "\n",
       "      Cuisines_Bakery  Cuisines_Beverages  ...  Cuisines_Ice Cream  \\\n",
       "14                  0                   0  ...                   0   \n",
       "15                  0                   0  ...                   0   \n",
       "16                  0                   0  ...                   0   \n",
       "17                  0                   0  ...                   0   \n",
       "18                  0                   0  ...                   0   \n",
       "...               ...                 ...  ...                 ...   \n",
       "9532                0                   0  ...                   0   \n",
       "9533                0                   0  ...                   0   \n",
       "9534                0                   0  ...                   0   \n",
       "9535                0                   0  ...                   0   \n",
       "9536                0                   0  ...                   0   \n",
       "\n",
       "      Cuisines_Italian  Cuisines_Mithai  Cuisines_Mughlai  \\\n",
       "14                   0                0                 0   \n",
       "15                   0                0                 0   \n",
       "16                   1                0                 0   \n",
       "17                   0                0                 0   \n",
       "18                   0                0                 0   \n",
       "...                ...              ...               ...   \n",
       "9532                 0                0                 0   \n",
       "9533                 0                0                 0   \n",
       "9534                 0                0                 0   \n",
       "9535                 0                0                 0   \n",
       "9536                 0                0                 0   \n",
       "\n",
       "      Cuisines_North Indian  Cuisines_Other  Cuisines_Pizza  \\\n",
       "14                        0               1               0   \n",
       "15                        0               0               0   \n",
       "16                        0               0               0   \n",
       "17                        0               1               0   \n",
       "18                        0               0               0   \n",
       "...                     ...             ...             ...   \n",
       "9532                      0               1               0   \n",
       "9533                      0               1               0   \n",
       "9534                      0               1               0   \n",
       "9535                      0               1               0   \n",
       "9536                      0               0               1   \n",
       "\n",
       "      Cuisines_Raw Meats  Cuisines_South Indian  Cuisines_Street Food  \n",
       "14                     0                      0                     0  \n",
       "15                     0                      0                     0  \n",
       "16                     0                      0                     0  \n",
       "17                     0                      0                     0  \n",
       "18                     0                      0                     0  \n",
       "...                  ...                    ...                   ...  \n",
       "9532                   0                      0                     0  \n",
       "9533                   0                      0                     0  \n",
       "9534                   0                      0                     0  \n",
       "9535                   0                      0                     0  \n",
       "9536                   0                      0                     0  \n",
       "\n",
       "[7685 rows x 28 columns]"
      ]
     },
     "execution_count": 675,
     "metadata": {},
     "output_type": "execute_result"
    }
   ],
   "source": [
    "# Encoding categorical columns\n",
    "df_encode = encode_cat_columns(df_encode)\n",
    "df_encode"
   ]
  },
  {
   "cell_type": "code",
   "execution_count": 717,
   "id": "6d0449e0",
   "metadata": {},
   "outputs": [
    {
     "data": {
      "text/plain": [
       "(7685, 28)"
      ]
     },
     "execution_count": 717,
     "metadata": {},
     "output_type": "execute_result"
    }
   ],
   "source": [
    "# shape of the dataframe after encoding\n",
    "df_encode.shape"
   ]
  },
  {
   "cell_type": "code",
   "execution_count": 718,
   "id": "96b0bb3c",
   "metadata": {},
   "outputs": [
    {
     "data": {
      "text/plain": [
       "Index(['Average Cost for two', 'Votes', 'Price range', 'Has Table booking',\n",
       "       'Has Online delivery', 'Aggregate rating', 'City_freq',\n",
       "       'Cuisines_American', 'Cuisines_Bakery', 'Cuisines_Beverages',\n",
       "       'Cuisines_Biryani', 'Cuisines_Burger', 'Cuisines_Cafe',\n",
       "       'Cuisines_Chinese', 'Cuisines_Continental', 'Cuisines_Desserts',\n",
       "       'Cuisines_Fast Food', 'Cuisines_Healthy Food', 'Cuisines_Ice Cream',\n",
       "       'Cuisines_Italian', 'Cuisines_Mithai', 'Cuisines_Mughlai',\n",
       "       'Cuisines_North Indian', 'Cuisines_Other', 'Cuisines_Pizza',\n",
       "       'Cuisines_Raw Meats', 'Cuisines_South Indian', 'Cuisines_Street Food'],\n",
       "      dtype='object')"
      ]
     },
     "execution_count": 718,
     "metadata": {},
     "output_type": "execute_result"
    }
   ],
   "source": [
    "#check the columns of the encoded dataframe\n",
    "df_encode.columns"
   ]
  },
  {
   "cell_type": "markdown",
   "id": "ff731376",
   "metadata": {},
   "source": [
    "- __Splitting Features and Target into Train and Test Sets__"
   ]
  },
  {
   "cell_type": "code",
   "execution_count": null,
   "id": "bbd82410",
   "metadata": {},
   "outputs": [],
   "source": [
    "X = df_encode.drop('Aggregate rating', axis=1) # Features\n",
    "y = df_encode['Aggregate rating'] # Target variable"
   ]
  },
  {
   "cell_type": "code",
   "execution_count": 720,
   "id": "24c8902a",
   "metadata": {},
   "outputs": [],
   "source": [
    "# split the data into training and testing sets\n",
    "X_train, X_test, y_train, y_test = train_test_split(X,y, train_size=0.8, random_state=1)"
   ]
  },
  {
   "cell_type": "code",
   "execution_count": null,
   "id": "0c66d943",
   "metadata": {},
   "outputs": [
    {
     "data": {
      "text/plain": [
       "((6148, 27), (1537, 27))"
      ]
     },
     "execution_count": 721,
     "metadata": {},
     "output_type": "execute_result"
    }
   ],
   "source": [
    "# check the rows and columns of the training and testing sets\n",
    "X_train.shape, X_test.shape"
   ]
  },
  {
   "cell_type": "markdown",
   "id": "14b5b5b3",
   "metadata": {},
   "source": [
    "- __Standardization__"
   ]
  },
  {
   "cell_type": "code",
   "execution_count": null,
   "id": "5769ab71",
   "metadata": {},
   "outputs": [
    {
     "name": "stdout",
     "output_type": "stream",
     "text": [
      "Mean:\n",
      " Average Cost for two       5.808669\n",
      "Votes                      2.724629\n",
      "Price range                1.552635\n",
      "City_freq               3102.932075\n",
      "dtype: float64\n",
      "\n",
      "std\n",
      " Average Cost for two       0.855754\n",
      "Votes                      1.695945\n",
      "Price range                0.708941\n",
      "City_freq               2009.281798\n",
      "dtype: float64\n"
     ]
    }
   ],
   "source": [
    "# checking the mean and std of the numerical features before scaling\n",
    "mean_values = X[['Average Cost for two', 'Votes', 'Price range', 'City_freq']].mean()\n",
    "std_values = X[['Average Cost for two', 'Votes', 'Price range', 'City_freq']].std()\n",
    "\n",
    "print(\"Mean:\\n\", mean_values)\n",
    "print(\"\\nstd\\n\", std_values)\n",
    "\n"
   ]
  },
  {
   "cell_type": "markdown",
   "id": "6c9fbde3",
   "metadata": {},
   "source": [
    "- Observation\n",
    "    - __City_freq__: Large scale, must be standardized.\n",
    "    - __Votes__: Moderate spread, should be scaled.\n",
    "    - __Average Cost for two__: Varies by location, standardization helps.\n",
    "    - __Price range__: Already small, but scale for consistency.\n"
   ]
  },
  {
   "cell_type": "code",
   "execution_count": null,
   "id": "f156c15a",
   "metadata": {},
   "outputs": [],
   "source": [
    "# List of numeric columns to be scaled\n",
    "num_col = ['Average Cost for two', 'Votes', 'Price range', 'City_freq']\n",
    "\n",
    "# Initialize the StandardScaler\n",
    "scaler = StandardScaler()\n",
    "\n",
    "# Create copies of the training and test data for scaling\n",
    "X_train_scaled = X_train.copy()\n",
    "X_test_scaled = X_test.copy()\n",
    "\n",
    "# Fit and transform the training data\n",
    "X_train_scaled[num_col] = scaler.fit_transform(X_train[num_col])\n",
    "# transform the test data using the same scaler\n",
    "X_test_scaled[num_col] = scaler.transform(X_test[num_col])"
   ]
  },
  {
   "cell_type": "code",
   "execution_count": null,
   "id": "52fd13fd",
   "metadata": {},
   "outputs": [
    {
     "name": "stdout",
     "output_type": "stream",
     "text": [
      "Mean:\n",
      " Average Cost for two    1.556768e-15\n",
      "Votes                  -5.778649e-17\n",
      "Price range            -1.311753e-16\n",
      "City_freq              -1.271303e-17\n",
      "dtype: float64\n",
      "\n",
      "std\n",
      " Average Cost for two    1.000081\n",
      "Votes                   1.000081\n",
      "Price range             1.000081\n",
      "City_freq               1.000081\n",
      "dtype: float64\n"
     ]
    }
   ],
   "source": [
    "# check the means and std after scaling\n",
    "mean_values = X_train_scaled[['Average Cost for two', 'Votes', 'Price range', 'City_freq']].mean()\n",
    "std_values = X_train_scaled[['Average Cost for two', 'Votes', 'Price range', 'City_freq']].std()\n",
    "\n",
    "print(\"Mean:\\n\", mean_values)\n",
    "print(\"\\nstd\\n\", std_values)"
   ]
  },
  {
   "cell_type": "markdown",
   "id": "af0b42de",
   "metadata": {},
   "source": [
    "- All selected numeric features are now standardized, with means near 0 and standard deviations around 1"
   ]
  },
  {
   "cell_type": "markdown",
   "id": "91c01ed4",
   "metadata": {},
   "source": [
    "- __TRAIN THE MODEL__"
   ]
  },
  {
   "cell_type": "code",
   "execution_count": null,
   "id": "d2ac25fb",
   "metadata": {},
   "outputs": [
    {
     "name": "stdout",
     "output_type": "stream",
     "text": [
      "Linear Regression training Done\n",
      "Decision Tree Regressor training Done\n",
      "All models trained and predictions stored.\n"
     ]
    }
   ],
   "source": [
    "# Initialize the models linear regression and decision tree regressor\n",
    "models = {\n",
    "    \"Linear Regression\": LinearRegression(),\n",
    "    \"Decision Tree Regressor\": DecisionTreeRegressor(random_state=1)\n",
    "}\n",
    "\n",
    "# Dictionary to store predictions and trained models\n",
    "predictions = {}\n",
    "trained_models = {}\n",
    "\n",
    "# train the models and evaluate their performance\n",
    "for name, model in models.items():\n",
    "    \n",
    "    # Fit the model on the training data\n",
    "    model.fit(X_train_scaled,y_train)\n",
    "    trained_models[name] = model\n",
    "    \n",
    "    # Make predictions on the test data\n",
    "    y_pred = model.predict(X_test_scaled)\n",
    "    predictions[name] = y_pred\n",
    "    \n",
    "    print(f\"{name} training Done\")\n",
    "    \n",
    "print(\"All models trained and predictions stored.\")"
   ]
  },
  {
   "cell_type": "markdown",
   "id": "a692947c",
   "metadata": {},
   "source": [
    "- __EVALUATE MODEL PERFORMANCE__"
   ]
  },
  {
   "cell_type": "code",
   "execution_count": null,
   "id": "21e273b4",
   "metadata": {},
   "outputs": [
    {
     "name": "stdout",
     "output_type": "stream",
     "text": [
      "Linear Regression Metrics:\n",
      "  MSE: 0.5665\n",
      "  RMSE: 0.7527\n",
      "  R2: 0.7505\n",
      "  MAE: 0.6210\n",
      "Decision Tree Regressor Metrics:\n",
      "  MSE: 0.1783\n",
      "  RMSE: 0.4222\n",
      "  R2: 0.9215\n",
      "  MAE: 0.2642\n"
     ]
    }
   ],
   "source": [
    "# Function to evaluate the model performance\n",
    "def evaluate_model(y_test, y_pred):\n",
    "    mse = mean_squared_error(y_test, y_pred)\n",
    "    r2 = r2_score(y_test, y_pred)\n",
    "    rmse = np.sqrt(mse)\n",
    "    mae = mean_absolute_error(y_test, y_pred)\n",
    "    return {'MSE': mse, 'RMSE': rmse, 'R2': r2, 'MAE': mae}\n",
    "\n",
    "# Evaluate and print model performance\n",
    "results = {}  # This stores all model evaluation results\n",
    "for name in models:\n",
    "    metrics = evaluate_model(y_test, predictions[name])\n",
    "    results[name] = metrics  # Store in the results dictionary\n",
    "\n",
    "    print(f\"{name} Metrics:\")\n",
    "    for k, v in metrics.items():\n",
    "        print(f\"  {k}: {v:.4f}\")"
   ]
  },
  {
   "cell_type": "markdown",
   "id": "8771038b",
   "metadata": {},
   "source": [
    "- Observation\n",
    "    - R² = 0.9215 vs 0.7505 (Linear) → Tree explains 92.2% vs 75.1% of variance\n",
    "    - MAE = 0.2642 vs 0.6210 (Linear) → Tree has 0.26 vs 0.62 rating error\n",
    "    - MSE = 0.1783 vs 0.5665 (Linear) → Tree has much lower squared errors\n",
    "    - RMSE = 0.4222 vs 0.7527 (Linear) → Tree has 0.42 vs 0.75 rating error\n",
    "    - Decision Tree Regressor captures non-linear relationships in the data much better than Linear Regression.\n",
    "    - Linear Regression assumes a straight-line relationship between features and ratings, which may not fit data as well.\n",
    "    - __*Best Model: Decision Tree Regressor*__"
   ]
  },
  {
   "cell_type": "markdown",
   "id": "0559a80a",
   "metadata": {},
   "source": [
    "- Compare R² and MSE"
   ]
  },
  {
   "cell_type": "code",
   "execution_count": null,
   "id": "a077726a",
   "metadata": {},
   "outputs": [
    {
     "data": {
      "image/png": "[encoded data removed]",
      "text/plain": [
       "<Figure size 1000x400 with 2 Axes>"
      ]
     },
     "metadata": {},
     "output_type": "display_data"
    }
   ],
   "source": [
    "# Convert dict results to DataFrame for better visualization\n",
    "df = pd.DataFrame(results).T.reset_index().rename(columns={'index': 'Model', 'R2': 'R2'})\n",
    "\n",
    "# Short visual comparison\n",
    "def plot_results(df):\n",
    "    fig, ax = plt.subplots(1, 2, figsize=(10, 4))\n",
    "\n",
    "    ax[0].bar(df['Model'], df['R2']) # Plot R2 scores\n",
    "    ax[0].set_title('R2 Score')\n",
    "    ax[0].set_ylim(0, 1) # Set y-axis limit for better visibility\n",
    "\n",
    "    ax[1].bar(df['Model'], df['MSE']) # Plot MSE\n",
    "    ax[1].set_title('MSE')\n",
    "\n",
    "    plt.tight_layout()\n",
    "    plt.show()\n",
    "\n",
    "# Call the function\n",
    "plot_results(df)"
   ]
  },
  {
   "cell_type": "markdown",
   "id": "ab58257b",
   "metadata": {},
   "source": [
    "- __Analyze Feature Importance__"
   ]
  },
  {
   "cell_type": "code",
   "execution_count": 801,
   "id": "af04692d",
   "metadata": {},
   "outputs": [
    {
     "name": "stdout",
     "output_type": "stream",
     "text": [
      "Most Important Features:\n",
      "                feature  importance\n",
      "1                 Votes    0.953915\n",
      "5             City_freq    0.021543\n",
      "0  Average Cost for two    0.009582\n",
      "4   Has Online delivery    0.002886\n",
      "2           Price range    0.001693\n"
     ]
    }
   ],
   "source": [
    "# Feature Importance for Decision Tree Regressor(only for tree based models)\n",
    "feature_importance = models['Decision Tree Regressor'].feature_importances_\n",
    "feature_names = X_train.columns\n",
    "\n",
    "# Show which features matter most for ratings\n",
    "importance_df = pd.DataFrame({\n",
    "    'feature': feature_names,\n",
    "    'importance': feature_importance\n",
    "}).sort_values('importance', ascending=False)\n",
    "\n",
    "print(\"Most Important Features:\")\n",
    "print(importance_df.head(5))"
   ]
  },
  {
   "cell_type": "markdown",
   "id": "3512b91a",
   "metadata": {},
   "source": [
    "- Summary\n",
    "    - Votes: By far the most important feature (95%+), highlighting how customer engagement drives rating predictions.\n",
    "    - City Frequency: Modest impact, possibly tied to location-based preferences.\n",
    "    - Cost, Online Delivery, Price Range: Minor contributors with limited influence on ratings."
   ]
  },
  {
   "cell_type": "markdown",
   "id": "a4e124c2",
   "metadata": {},
   "source": [
    "-----"
   ]
  },
  {
   "cell_type": "markdown",
   "id": "272a6702",
   "metadata": {},
   "source": [
    "- __Key Insights & Interpretation__\n",
    "\n",
    "    - BEST MODEL: Decision Tree Regressor\n",
    "        - R² Score: 0.9215 (92.15% variance explained)\n",
    "        - RMSE: 0.4222 (average prediction error ±0.42)\n",
    "        - Significantly outperforms Linear Regression\n",
    "\n",
    "    - MODEL COMPARISON\n",
    "        - Decision Tree: Captures non-linear relationships effectively\n",
    "        - Linear Regression: Simple baseline, but limited by linearity\n",
    "        - Decision Tree shows ~84% improvement in R²\n",
    "\n",
    "    - BUSINESS IMPLICATIONS\n",
    "        - High-accuracy predictions can inform rating strategy\n",
    "        - Restaurant owners can estimate potential performance\n",
    "        - Key influencing factors:\n",
    "        - Customer **votes**\n",
    "            - **Online services** (table booking & delivery)\n",
    "            - **Cost strategy**: Tuning average pricing for impact\n",
    "\n",
    "    - STRATEGIC RECOMMENDATIONS\n",
    "        - **Pricing Strategy**: Optimize 'Average Cost for two' for target ratings  \n",
    "        - **Digital Presence**: Implement online delivery and table booking  \n",
    "        - **Customer Engagement**: Encourage more ratings and reviews  \n",
    "        - **Cuisine Focus**: Specialize in popular cuisine types per city  \n",
    "        - **Location Analysis**: Use city & locality trends to inform expansion  \n",
    "        - **Continuous Monitoring**: Predict rating shifts with updated inputs\n",
    "\n",
    "    - PROJECT PIPELINE\n",
    "        - __Data Preprocessing:__ Handled missing values and cleaned columns  \n",
    "        - __Feature Engineering:__ Top-N cuisines, frequency encoding for cities\n",
    "        - __Standardization:__ Scaled numeric features to improve model performance and interpretability\n",
    "        - __Model Training:__ Linear Regression & Decision Tree Regressor  \n",
    "        - __Evaluation:__ Metrics including R², MSE, MAE, and RMSE  \n",
    "        - __Feature Importance:__ Identified votes as top predictor  \n",
    "        - __Business Takeaways:__ Generated actionable recommendations\n",
    "\n"
   ]
  },
  {
   "cell_type": "markdown",
   "id": "16677208",
   "metadata": {},
   "source": [
    "- Save the model"
   ]
  },
  {
   "cell_type": "code",
   "execution_count": null,
   "id": "86acfde6",
   "metadata": {},
   "outputs": [],
   "source": [
    "import pickle\n",
    "\n",
    "# Save the trained Decision Tree model\n",
    "with open('decision_tree_model.pkl', 'wb') as file: # wb mode for writing binary files\n",
    "    pickle.dump(trained_models['Decision Tree Regressor'], file)"
   ]
  },
  {
   "cell_type": "markdown",
   "id": "de5f9895",
   "metadata": {},
   "source": [
    "- Load the model and test prediction"
   ]
  },
  {
   "cell_type": "code",
   "execution_count": null,
   "id": "6bca0bb4",
   "metadata": {},
   "outputs": [
    {
     "name": "stdout",
     "output_type": "stream",
     "text": [
      "Predicted Rating: 3.20\n",
      "Actual Rating: 3.30\n"
     ]
    }
   ],
   "source": [
    "# Load the model\n",
    "with open('decision_tree_model.pkl', 'rb') as file: # rb mode for reading binary files\n",
    "    loaded_model = pickle.load(file)\n",
    "\n",
    "# Select a test sample and predict\n",
    "sample = X_test_scaled.iloc[[0]] # Use the first row of the test set\n",
    "predicted = loaded_model.predict(sample) # Predict the rating for the sample\n",
    "\n",
    "# Compare with actual rating\n",
    "print(f\"Predicted Rating: {predicted[0]:.2f}\") # Print predicted rating\n",
    "print(f\"Actual Rating: {y_test.iloc[0]:.2f}\")  # Print actual rating for comparison"
   ]
  },
  {
   "cell_type": "markdown",
   "id": "50fcc1e2",
   "metadata": {},
   "source": [
    "*Sample prediction validated: Model output closely matches real-world rating.*"
   ]
  }
 ],
 "metadata": {
  "kernelspec": {
   "display_name": "Python 3",
   "language": "python",
   "name": "python3"
  },
  "language_info": {
   "codemirror_mode": {
    "name": "ipython",
    "version": 3
   },
   "file_extension": ".py",
   "mimetype": "text/x-python",
   "name": "python",
   "nbconvert_exporter": "python",
   "pygments_lexer": "ipython3",
   "version": "3.12.6"
  }
 },
 "nbformat": 4,
 "nbformat_minor": 5
}
